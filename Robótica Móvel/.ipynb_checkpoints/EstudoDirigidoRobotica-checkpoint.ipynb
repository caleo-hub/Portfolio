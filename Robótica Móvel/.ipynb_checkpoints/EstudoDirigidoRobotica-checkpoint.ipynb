{
 "cells": [
  {
   "cell_type": "code",
   "execution_count": 1,
   "source": [
    "import time\r\n",
    "import sys\r\n",
    "import numpy as np\r\n",
    "from numpy import sin,cos\r\n",
    "import matplotlib.pyplot as plt\r\n",
    "from PIL import Image\r\n",
    "import cv2"
   ],
   "outputs": [],
   "metadata": {}
  },
  {
   "cell_type": "markdown",
   "source": [
    "___\r\n",
    "# Dimensões do Robô\r\n",
    "![Dimensões Robô](DimensoesRobo.png)\r\n",
    "___"
   ],
   "metadata": {}
  },
  {
   "cell_type": "code",
   "execution_count": 209,
   "source": [
    "class RoboPionner:\r\n",
    "    def __init__(self) -> None:\r\n",
    "        self.rodaDiametro = (195)/1000 #R\r\n",
    "        self.raio = self.rodaDiametro/2\r\n",
    "        self.rodaDireitaRaio = self.rodaDiametro/2 #Rd\r\n",
    "        self.rodaEsquerdaRaio = self.rodaDiametro/2 #Re\r\n",
    "        self.distanciaRodaEixo = ((381)/1000)/2 #L\r\n",
    "        self.velocidadeAngularRodaDireita = 0.5\r\n",
    "        self.velocidadeAngularRodaEsquerda = 0.5\r\n",
    "        self._posicaoRoboXYtheta = np.array([0,0,0]).reshape(3,1)\r\n",
    "\r\n",
    "    @property\r\n",
    "    def posicaoRobo(self) -> np.ndarray:\r\n",
    "        return self._posicaoRoboXYtheta\r\n",
    "\r\n",
    "    @property\r\n",
    "    def velocidadeAngularRodas(self) -> np.ndarray:\r\n",
    "        return np.array([self.velocidadeAngularRodaDireita,\r\n",
    "                        self.velocidadeAngularRodaEsquerda]).reshape((2,1))\r\n",
    "    @property\r\n",
    "    def posicaoX(self) -> float:\r\n",
    "        return float(self._posicaoRoboXYtheta[0])\r\n",
    "    @property\r\n",
    "    def posicaoY(self) -> float:\r\n",
    "        return float(self._posicaoRoboXYtheta[1])\r\n",
    "    @property  \r\n",
    "    def rotacaoTheta(self) -> float:\r\n",
    "        return float(self._posicaoRoboXYtheta[2])\r\n",
    "\r\n",
    "    @posicaoRobo.setter\r\n",
    "    def posicaoRobo(self,Posicao:np.ndarray) -> np.ndarray:\r\n",
    "        self._posicaoRoboXYtheta = Posicao.reshape(3,1)\r\n",
    "\r\n",
    "    @velocidadeAngularRodas.setter\r\n",
    "    def velocidadeAngularRodas(self,velocidadesAngularesRodas):\r\n",
    "        self.velocidadeAngularRodaDireita, self.velocidadeAngularRodaEsquerda = velocidadesAngularesRodas\r\n",
    "\r\n"
   ],
   "outputs": [],
   "metadata": {}
  },
  {
   "cell_type": "code",
   "execution_count": 210,
   "source": [
    "class RoboPionnerModeloUm(RoboPionner):\r\n",
    "    def __init__(self) -> None:\r\n",
    "        super().__init__()\r\n",
    "\r\n",
    "    @property\r\n",
    "    def posicaoGlobal(self) -> np.ndarray:\r\n",
    "        rotacao = self.rotacaoTheta\r\n",
    "        posicaoGlobal = np.array([cos(rotacao),   -sin(rotacao),  0, \r\n",
    "                            sin(rotacao),   cos(rotacao),   0,\r\n",
    "                             0           ,0,                 1]).reshape((3,3))\r\n",
    "\r\n",
    "        coefposicaoGlobal =  np.array([1,0,\r\n",
    "                                       0,0,\r\n",
    "                                       0,1]).reshape((3,2))\r\n",
    "\r\n",
    "        return np.matmul(posicaoGlobal,coefposicaoGlobal)\r\n",
    "\r\n",
    "    @property\r\n",
    "    def velocidadeRobo(self) -> np.ndarray:\r\n",
    "\r\n",
    "        rD = self.rodaDireitaRaio\r\n",
    "        rE = self.rodaEsquerdaRaio\r\n",
    "        L =  self.distanciaRodaEixo\r\n",
    "\r\n",
    "        RelacaoVelocidadeRodaRobo = np.array([rD/2, rE/2, \r\n",
    "                                            (rD/(2*L)), (-rE/(2*L))]).reshape((2,2))\r\n",
    "        \r\n",
    "        velocidadeAngularRoda = self.velocidadeAngularRodas\r\n",
    "        velocidadeRobo = np.matmul(RelacaoVelocidadeRodaRobo,velocidadeAngularRoda)\r\n",
    "        return velocidadeRobo\r\n",
    "\r\n",
    "    def calculaNovaPosicaoRobo(self, Passo: float = 0.05):\r\n",
    "        velocidadeGlobalRobo = np.matmul(self.posicaoGlobal,self.velocidadeRobo)\r\n",
    "        deslocamentoRobo = velocidadeGlobalRobo*Passo\r\n",
    "        self.posicaoRobo = self.posicaoRobo + deslocamentoRobo\r\n",
    "        return self.posicaoRobo\r\n",
    "    \r\n",
    "    \r\n",
    "\r\n",
    "    "
   ],
   "outputs": [],
   "metadata": {}
  },
  {
   "cell_type": "code",
   "execution_count": 254,
   "source": [
    "class RoboPionnerModeloDois(RoboPionner):\r\n",
    "    def __init__(self) -> None:\r\n",
    "        super().__init__()\r\n",
    "\r\n",
    "    @property\r\n",
    "    def posicaoGlobal(self) -> np.ndarray:\r\n",
    "        rotacao = self.velocidadeAngularRobo*self.Passo\r\n",
    "        posicaoGlobal = np.array([cos(rotacao),   -sin(rotacao),  0, \r\n",
    "                            sin(rotacao),   cos(rotacao),   0,\r\n",
    "                             0           ,0,                 1]).reshape((3,3))\r\n",
    "\r\n",
    "        return posicaoGlobal\r\n",
    "\r\n",
    "    @property   \r\n",
    "    def centroCurvaturaInstantaneo(self) -> np.ndarray:\r\n",
    "        \r\n",
    "        X = self.posicaoX\r\n",
    "        Y = self.posicaoY\r\n",
    "        Theta = self.rotacaoTheta\r\n",
    "\r\n",
    "        raioRoda = self.raio\r\n",
    "        L =  self.distanciaRodaEixo\r\n",
    "        \r\n",
    "        velocidadeRodaDireita,velocidadeRodaEsquerda  = self.velocidadeAngularRodas*raioRoda\r\n",
    "        vD = float(velocidadeRodaDireita)\r\n",
    "        vE = float(velocidadeRodaEsquerda)\r\n",
    "\r\n",
    "        self.RaioCentroCurvatura = (L/2)*((vE+vD)/(vD-vE))\r\n",
    "        self.velocidadeAngularRobo = (vD - vE)/L\r\n",
    "\r\n",
    "        ICCx = X - self.RaioCentroCurvatura*sin(Theta)\r\n",
    "        ICCy = Y + self.RaioCentroCurvatura*cos(Theta)\r\n",
    "        ICCtheta = self.velocidadeAngularRobo*self.Passo\r\n",
    "\r\n",
    "        ICC = np.array([ICCx,ICCy,ICCtheta]).reshape((3,1))\r\n",
    "        return ICC\r\n",
    "\r\n",
    "    def calculaNovaPosicaoRobo(self, Passo: float = 0.05):\r\n",
    "        self.Passo = Passo\r\n",
    "        X = self.posicaoX\r\n",
    "        Y = self.posicaoY\r\n",
    "        Theta = self.rotacaoTheta\r\n",
    "\r\n",
    "        ICCx,ICCy,ICCtheta = self.centroCurvaturaInstantaneo\r\n",
    "        ICCx = float(ICCx)\r\n",
    "        ICCy = float(ICCy)\r\n",
    "        ICCtheta = float(ICCtheta)\r\n",
    "        matrizPosicaoGlobal= self.posicaoGlobal\r\n",
    "\r\n",
    "        distanciaICC = np.array([X - ICCx, Y - ICCy, Theta]).reshape(3,1)\r\n",
    "\r\n",
    "        self.posicaoRobo = np.matmul(matrizPosicaoGlobal,distanciaICC) + self.centroCurvaturaInstantaneo\r\n",
    "        return self.posicaoRobo\r\n",
    "\r\n",
    "\r\n",
    "        \r\n",
    "\r\n",
    "    \r\n"
   ],
   "outputs": [],
   "metadata": {}
  },
  {
   "cell_type": "code",
   "execution_count": 213,
   "source": [
    "def Simula(velocidadeAngularRodaDireita,velocidadeAngularRodaEsquerda,Passo=0.05,TempoSimulacaoSegundos=10):\r\n",
    "    try:\r\n",
    "        import sim\r\n",
    "    except:\r\n",
    "        print ('--------------------------------------------------------------')\r\n",
    "        print ('\"sim.py\" could not be imported. This means very probably that')\r\n",
    "        print ('either \"sim.py\" or the remoteApi library could not be found.')\r\n",
    "        print ('Make sure both are in the same folder as this file,')\r\n",
    "        print ('or appropriately adjust the file \"sim.py\"')\r\n",
    "        print ('--------------------------------------------------------------')\r\n",
    "        print ('')\r\n",
    "\r\n",
    "    sim.simxFinish(-1) # just in case, close all opened connections\r\n",
    "    clientID=sim.simxStart('127.0.0.1',19997,True,True,5000,5) # Connect to CoppeliaSim\r\n",
    "    if clientID!=-1:\r\n",
    "        print ('Connected to remote API server')\r\n",
    "        print(\"Simulation Started\", end =\" \")\r\n",
    "        # enable the synchronous mode on the client:\r\n",
    "        sim.simxSynchronous(clientID,True)\r\n",
    "\r\n",
    "        # start the simulation:\r\n",
    "        sim.simxStartSimulation(clientID,sim.simx_opmode_blocking)\r\n",
    "\r\n",
    "        ## Handle \r\n",
    "        returnCode,Robot = sim.simxGetObjectHandle(clientID,'Pioneer_p3dx',sim.simx_opmode_blocking)\r\n",
    "        returnCode,left_Motor= sim.simxGetObjectHandle(clientID,'Pioneer_p3dx_leftMotor',sim.simx_opmode_blocking)\r\n",
    "        returnCode,right_Motor= sim.simxGetObjectHandle(clientID,'Pioneer_p3dx_rightMotor',sim.simx_opmode_blocking)\r\n",
    "        returnCode,front_Sensor =sim.simxGetObjectHandle(clientID,'Pioneer_p3dx_ultrasonicSensor5',sim.simx_opmode_blocking)\r\n",
    "        returnCode,camera= sim.simxGetObjectHandle(clientID,'Vision_sensor',sim.simx_opmode_blocking)\r\n",
    "        returnCode,resolution,image = sim.simxGetVisionSensorImage(clientID,camera,1,sim.simx_opmode_streaming)\r\n",
    "    \r\n",
    "            \r\n",
    "        #Periodo de amostragem e tempo de simulacao\r\n",
    "        T = Passo # Tempo de passo. Tem de estar em concordancia com Vrep!\r\n",
    "        Tsim = TempoSimulacaoSegundos  # segundos\r\n",
    "        t = np.arange(0,Tsim,T)\r\n",
    "        N = len(t)\r\n",
    "\r\n",
    "        #Pose inicial\r\n",
    "        returnCode,Real_Robot_position = sim.simxGetObjectPosition(clientID,Robot,-1,sim.simx_opmode_blocking)\r\n",
    "        P = np.array(Real_Robot_position).reshape((3,1))\r\n",
    "        PosicaoInicial = P\r\n",
    "        PosicaoRealHistorico = P - PosicaoInicial\r\n",
    "\r\n",
    "    \r\n",
    "        # Now step a few times:\r\n",
    "        for i in range(0,N-1):\r\n",
    "            #Anda um passo de simulacao\r\n",
    "            sim.simxSynchronousTrigger(clientID)\r\n",
    "            \r\n",
    "            \r\n",
    "            #Velocidade de referencia\r\n",
    "            v_motor_l= velocidadeAngularRodaEsquerda\r\n",
    "            v_motor_r= velocidadeAngularRodaDireita\r\n",
    "            \r\n",
    "            returnCode=sim.simxSetJointTargetVelocity(clientID,left_Motor,v_motor_l,sim.simx_opmode_blocking)\r\n",
    "            returnCode=sim.simxSetJointTargetVelocity(clientID,right_Motor,v_motor_r,sim.simx_opmode_blocking)\r\n",
    "\r\n",
    "            \r\n",
    "            returnCode,Real_Robot_position = sim.simxGetObjectPosition(clientID,Robot,-1,sim.simx_opmode_blocking)\r\n",
    "            P = np.array(Real_Robot_position).reshape((3,1)) - PosicaoInicial\r\n",
    "            PosicaoRealHistorico = np.append(PosicaoRealHistorico,P,axis=1)\r\n",
    "            b = \"Simulando \" + str((i/(N-1))*100) + '%'\r\n",
    "            #print (b)\r\n",
    "            sys.stdout.write('\\r'+b)\r\n",
    "            returnCode,resolution,image =sim.simxGetVisionSensorImage(clientID,camera,1,sim.simx_opmode_buffer)\r\n",
    "            if returnCode == sim.simx_return_ok :\r\n",
    "                imageAcquisitionTime=sim.simxGetLastCmdTime(clientID)\r\n",
    "                #time.sleep(.5)\r\n",
    "                img = np.array(image,dtype=np.uint8)\r\n",
    "                img.resize([resolution[1],resolution[0]])\r\n",
    "\r\n",
    "                img = np.flip(img)\r\n",
    "                img = np.fliplr(img)\r\n",
    "                cv2.imshow('image',img)\r\n",
    "                if cv2.waitKey(1) & 0xFF == ord('q'):\r\n",
    "                    break\r\n",
    "\r\n",
    "        \r\n",
    "        # stop the simulation:\r\n",
    "        sim.simxStopSimulation(clientID,sim.simx_opmode_blocking)\r\n",
    "        print()\r\n",
    "        print('Simulation Stopped')\r\n",
    "\r\n",
    "        # Now close the connection to CoppeliaSim:\r\n",
    "        sim.simxFinish(clientID)\r\n",
    "        print('Simulation Closed')\r\n",
    "\r\n",
    "\r\n",
    "    else:\r\n",
    "        print ('Failed connecting to remote API server')\r\n",
    "        print ('Program ended')\r\n",
    "    return PosicaoRealHistorico"
   ],
   "outputs": [],
   "metadata": {}
  },
  {
   "cell_type": "code",
   "execution_count": 212,
   "source": [
    "def plotaGrafico(PosicaoRoboHistorico,PosicaoRealHistorico):    \r\n",
    "    PosicaoX = PosicaoRoboHistorico[0,:]\r\n",
    "    PosicaoY = PosicaoRoboHistorico[1,:]\r\n",
    "    Angulo = PosicaoRoboHistorico[2,:]\r\n",
    "\r\n",
    "\r\n",
    "    PosicaoRealX = PosicaoRealHistorico[0,:]\r\n",
    "    PosicaoRealY = PosicaoRealHistorico[1,:]\r\n",
    "    AnguloReal = PosicaoRealHistorico[2,:]\r\n",
    "\r\n",
    "    plt.plot(PosicaoRealX,PosicaoRealY,color='red', label=\"Ground Truth\")\r\n",
    "\r\n",
    "    plt.rcParams[\"figure.figsize\"] = (10,10)\r\n",
    "    plt.plot(PosicaoX,PosicaoY,color='blue',ls='--', label=\"Modelo\")\r\n",
    "    Title = 'Trajetória Robô'\r\n",
    "    plt.title(Title)\r\n",
    "    plt.xlabel('X')\r\n",
    "    plt.ylabel('Y')\r\n",
    "    plt.axis('square')\r\n",
    "    plt.legend()"
   ],
   "outputs": [],
   "metadata": {}
  },
  {
   "cell_type": "code",
   "execution_count": 216,
   "source": [
    "#Periodo de amostragem e tempo de simulacao\r\n",
    "Passo = 0.05 # Tempo de passo. \r\n",
    "TempoSimulacaoSegundos = 10  \r\n",
    "t = np.arange(0,TempoSimulacaoSegundos,Passo)\r\n",
    "NumeroIteracoes = len(t)   \r\n"
   ],
   "outputs": [],
   "metadata": {}
  },
  {
   "cell_type": "code",
   "execution_count": 217,
   "source": [
    "velocidadeAngularRodaDireita = 1\r\n",
    "velocidadeAngularRodaEsquerda = 1\r\n",
    "PosicaoRealHistorico = Simula(velocidadeAngularRodaDireita,velocidadeAngularRodaEsquerda,Passo=0.05,TempoSimulacaoSegundos=10)"
   ],
   "outputs": [
    {
     "output_type": "stream",
     "name": "stdout",
     "text": [
      "Connected to remote API server\n",
      "Simulando 99.49748743718592%\n",
      "Simulation Stopped\n",
      "Simulation Closed\n"
     ]
    }
   ],
   "metadata": {}
  },
  {
   "cell_type": "code",
   "execution_count": 219,
   "source": [
    "roboUm = RoboPionnerModeloUm()\r\n",
    "velocidadeAngularRodaDireita = 1\r\n",
    "velocidadeAngularRodaEsquerda = 1\r\n",
    "PosicaoRoboHistorico = roboUm.posicaoRobo\r\n",
    "\r\n",
    "\r\n",
    "for i in range(0,NumeroIteracoes-1):\r\n",
    "    roboUm.velocidadeAngularRodas = [velocidadeAngularRodaDireita,velocidadeAngularRodaEsquerda]\r\n",
    "    PosicaoNova = roboUm.calculaNovaPosicaoRobo(Passo=0.05)\r\n",
    "    PosicaoRoboHistorico = np.append(PosicaoRoboHistorico,PosicaoNova,axis=1)\r\n"
   ],
   "outputs": [],
   "metadata": {}
  },
  {
   "cell_type": "code",
   "execution_count": 236,
   "source": [],
   "outputs": [
    {
     "output_type": "execute_result",
     "data": {
      "text/plain": [
       "0.121875"
      ]
     },
     "metadata": {},
     "execution_count": 236
    }
   ],
   "metadata": {}
  },
  {
   "cell_type": "code",
   "execution_count": 220,
   "source": [
    "plotaGrafico(PosicaoRoboHistorico,PosicaoRealHistorico)"
   ],
   "outputs": [
    {
     "output_type": "display_data",
     "data": {
      "image/png": "[encoded data removed]",
      "text/plain": [
       "<Figure size 720x720 with 1 Axes>"
      ]
     },
     "metadata": {
      "needs_background": "light"
     }
    }
   ],
   "metadata": {}
  },
  {
   "cell_type": "code",
   "execution_count": 208,
   "source": [
    "roboUm = RoboPionnerModeloUm()\r\n",
    "velocidadeAngularRodaDireita = 0\r\n",
    "velocidadeAngularRodaEsquerda = 1\r\n",
    "PosicaoRoboHistorico = roboUm.posicaoRobo\r\n",
    "\r\n",
    "\r\n",
    "for i in range(0,NumeroIteracoes-1):\r\n",
    "    roboUm.velocidadeAngularRodas = [velocidadeAngularRodaDireita,velocidadeAngularRodaEsquerda]\r\n",
    "    PosicaoNova = roboUm.calculaNovaPosicaoRobo(Passo=0.05)\r\n",
    "    PosicaoRoboHistorico = np.append(PosicaoRoboHistorico,PosicaoNova,axis=1)\r\n",
    "\r\n",
    "#PosicaoRealHistorico = Simula(velocidadeAngularRodaDireita,velocidadeAngularRodaEsquerda,Passo=0.05)\r\n",
    "plotaGrafico(PosicaoRoboHistorico,PosicaoRealHistorico)"
   ],
   "outputs": [
    {
     "output_type": "display_data",
     "data": {
      "image/png": "[encoded data removed]",
      "text/plain": [
       "<Figure size 720x720 with 1 Axes>"
      ]
     },
     "metadata": {
      "needs_background": "light"
     }
    }
   ],
   "metadata": {}
  },
  {
   "cell_type": "code",
   "execution_count": 222,
   "source": [
    "roboUm = RoboPionnerModeloUm()\r\n",
    "velocidadeAngularRodaDireita = 1\r\n",
    "velocidadeAngularRodaEsquerda = 1.5\r\n",
    "PosicaoRoboHistorico = roboUm.posicaoRobo\r\n",
    "\r\n",
    "\r\n",
    "for i in range(0,NumeroIteracoes-1):\r\n",
    "    roboUm.velocidadeAngularRodas = [velocidadeAngularRodaDireita,velocidadeAngularRodaEsquerda]\r\n",
    "    PosicaoNova = roboUm.calculaNovaPosicaoRobo(Passo=0.05)\r\n",
    "    PosicaoRoboHistorico = np.append(PosicaoRoboHistorico,PosicaoNova,axis=1)\r\n",
    "\r\n",
    "PosicaoRealHistorico = Simula(velocidadeAngularRodaDireita,velocidadeAngularRodaEsquerda,Passo=0.05)\r\n",
    "plotaGrafico(PosicaoRoboHistorico,PosicaoRealHistorico)"
   ],
   "outputs": [
    {
     "output_type": "stream",
     "name": "stdout",
     "text": [
      "Connected to remote API server\n",
      "Simulando 99.49748743718592%\n",
      "Simulation Stopped\n",
      "Simulation Closed\n"
     ]
    },
    {
     "output_type": "display_data",
     "data": {
      "image/png": "[encoded data removed]",
      "text/plain": [
       "<Figure size 720x720 with 1 Axes>"
      ]
     },
     "metadata": {
      "needs_background": "light"
     }
    }
   ],
   "metadata": {}
  },
  {
   "cell_type": "code",
   "execution_count": 271,
   "source": [
    "roboDois = RoboPionnerModeloDois()\r\n",
    "velocidadeAngularRodaDireita = 2\r\n",
    "velocidadeAngularRodaEsquerda = 2.00005\r\n",
    "PosicaoRoboHistorico = roboDois.posicaoRobo\r\n",
    "\r\n",
    "\r\n",
    "for i in range(0,NumeroIteracoes-1):\r\n",
    "    roboDois.velocidadeAngularRodas = [velocidadeAngularRodaDireita,velocidadeAngularRodaEsquerda]\r\n",
    "    PosicaoNova = roboDois.calculaNovaPosicaoRobo(Passo=0.05)\r\n",
    "    PosicaoRoboHistorico = np.append(PosicaoRoboHistorico,PosicaoNova,axis=1)\r\n",
    "PosicaoRealHistorico = Simula(velocidadeAngularRodaDireita,velocidadeAngularRodaEsquerda,Passo=0.05)\r\n",
    "\r\n"
   ],
   "outputs": [
    {
     "output_type": "stream",
     "name": "stdout",
     "text": [
      "Connected to remote API server\n",
      "Simulando 99.49748743718592%\n",
      "Simulation Stopped\n",
      "Simulation Closed\n"
     ]
    }
   ],
   "metadata": {}
  },
  {
   "cell_type": "code",
   "execution_count": 272,
   "source": [
    "plotaGrafico(PosicaoRoboHistorico,PosicaoRealHistorico)"
   ],
   "outputs": [
    {
     "output_type": "display_data",
     "data": {
      "image/png": "[encoded data removed]",
      "text/plain": [
       "<Figure size 720x720 with 1 Axes>"
      ]
     },
     "metadata": {
      "needs_background": "light"
     }
    }
   ],
   "metadata": {}
  },
  {
   "cell_type": "code",
   "execution_count": null,
   "source": [],
   "outputs": [],
   "metadata": {}
  }
 ],
 "metadata": {
  "orig_nbformat": 4,
  "language_info": {
   "name": "python",
   "version": "3.8.10",
   "mimetype": "text/x-python",
   "codemirror_mode": {
    "name": "ipython",
    "version": 3
   },
   "pygments_lexer": "ipython3",
   "nbconvert_exporter": "python",
   "file_extension": ".py"
  },
  "kernelspec": {
   "name": "python3",
   "display_name": "Python 3.8.10 64-bit (system)"
  },
  "interpreter": {
   "hash": "e06db193390ac274e2c0ffc12ca17a29a65b9f5b4e35b8edb056aa72859d62d6"
  }
 },
 "nbformat": 4,
 "nbformat_minor": 2
}