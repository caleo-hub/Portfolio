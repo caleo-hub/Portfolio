{
 "cells": [
  {
   "cell_type": "code",
   "execution_count": 1,
   "source": [
    "import time\r\n",
    "import sys\r\n",
    "import numpy as np\r\n",
    "from numpy import sin,cos\r\n",
    "import matplotlib.pyplot as plt\r\n",
    "from PIL import Image\r\n",
    "import cv2\r\n"
   ],
   "outputs": [],
   "metadata": {}
  },
  {
   "cell_type": "markdown",
   "source": [
    "___\r\n",
    "# Dimensões do Robô\r\n",
    "![Dimensões Robô](DimensoesRobo.png)\r\n",
    "___"
   ],
   "metadata": {}
  },
  {
   "cell_type": "code",
   "execution_count": 2,
   "source": [
    "# Dimensões do Robô em metros\r\n",
    "rodaDiametro = (195)/1000 #R\r\n",
    "raio = rodaDiametro/2\r\n",
    "rodaDireitaRaio = rodaDiametro/2 #Rd\r\n",
    "rodaEsquerdaRaio = rodaDiametro/2 #Re\r\n",
    "distanciaRodaEixo = ((381)/1000)/2 #L\r\n",
    "velocidadeAngularRodaDireita = 0.5\r\n",
    "velocidadeAngularRodaEsquerda = 0.5"
   ],
   "outputs": [],
   "metadata": {}
  },
  {
   "cell_type": "markdown",
   "source": [
    "___\r\n",
    "# Modelo I\r\n",
    "![Equações Matriz modelo I](EquaçõesMAtrizModelo_I.png)\r\n",
    "___"
   ],
   "metadata": {}
  },
  {
   "cell_type": "code",
   "execution_count": 18,
   "source": [
    "def ModeloDiferencialPasso(PosicaoRobo, velocidadeAngularRodaDireita = 0.5, velocidadeAngularRodaEsquerda = 0.5, Passo=0.05):\r\n",
    "    rotacao = float(PosicaoRobo[2])\r\n",
    "\r\n",
    "    matrizB = np.array([cos(rotacao),   -sin(rotacao),  0, \r\n",
    "                    sin(rotacao),   cos(rotacao),   0,\r\n",
    "                    0           ,0,                 1]).reshape((3,3))\r\n",
    "\r\n",
    "\r\n",
    "    matrizC = np.array([1,0,\r\n",
    "                        0,0,\r\n",
    "                        0,1]).reshape((3,2))\r\n",
    "\r\n",
    "    matrizD = np.array([rodaDireitaRaio/2, rodaEsquerdaRaio/2, \r\n",
    "                    (rodaDireitaRaio/(2*distanciaRodaEixo)), (-rodaEsquerdaRaio/(2*distanciaRodaEixo))]).reshape((2,2))\r\n",
    "    matrizE = np.array([velocidadeAngularRodaDireita,\r\n",
    "                    velocidadeAngularRodaEsquerda]).reshape((2,1))\r\n",
    "\r\n",
    "\r\n",
    "    matrizA = np.matmul(np.matmul(matrizB,matrizC),np.matmul(matrizD,matrizE)) #A = B*C*D*E\r\n",
    "\r\n",
    "    deslocamento = matrizA*0.05 #velocidade * tempo\r\n",
    "\r\n",
    "    PosicaoNova = PosicaoRobo + deslocamento\r\n",
    "\r\n",
    "    return PosicaoNova, matrizA\r\n",
    "    \r\n",
    "    "
   ],
   "outputs": [],
   "metadata": {}
  },
  {
   "cell_type": "code",
   "execution_count": 19,
   "source": [
    "def SimulaModeloUm(velocidadeAngularRodaDireita, velocidadeAngularRodaEsquerda, Passo=0.05, TempoSimulacao = 10):\r\n",
    "    \r\n",
    "\r\n",
    "    #Periodo de amostragem e tempo de simulacao\r\n",
    "    T = Passo # Tempo de passo. Tem de estar em concordancia com Vrep!\r\n",
    "    Tsim = TempoSimulacao  # segundos\r\n",
    "    t = np.arange(0,Tsim,T)\r\n",
    "    N = len(t)\r\n",
    "\r\n",
    "    PosicaoRobo = np.array([0,\r\n",
    "                    0,\r\n",
    "                    0]).reshape((3,1)) #Valores Iniciais de Posicao e angulo zerados\r\n",
    "    VelocidadeRobo = np.array([0,\r\n",
    "                           0,\r\n",
    "                           0]).reshape((3,1)) #Valores Iniciais de velocidade e rotação zerados\r\n",
    "    PosicaoHistorico = PosicaoRobo\r\n",
    "    VelocidadeHistorico = VelocidadeRobo\r\n",
    "    \r\n",
    "    \r\n",
    "    for i in range(0,N-1):\r\n",
    "        PosicaoNova, Velocidades = ModeloDiferencialPasso(PosicaoRobo, \r\n",
    "                                    velocidadeAngularRodaDireita, \r\n",
    "                                    velocidadeAngularRodaEsquerda, \r\n",
    "                                    Passo)\r\n",
    "        PosicaoHistorico = np.append(PosicaoHistorico,PosicaoNova,axis=1)\r\n",
    "        VelocidadeHistorico = np.append(VelocidadeHistorico,Velocidades,axis=1)\r\n",
    "\r\n",
    "        PosicaoRobo = PosicaoNova\r\n",
    "\r\n",
    "    return PosicaoHistorico\r\n",
    "    "
   ],
   "outputs": [],
   "metadata": {}
  },
  {
   "cell_type": "code",
   "execution_count": 20,
   "source": [
    "def Simula(velocidadeAngularRodaDireita,velocidadeAngularRodaEsquerda,Passo=0.05):\r\n",
    "    try:\r\n",
    "        import sim\r\n",
    "    except:\r\n",
    "        print ('--------------------------------------------------------------')\r\n",
    "        print ('\"sim.py\" could not be imported. This means very probably that')\r\n",
    "        print ('either \"sim.py\" or the remoteApi library could not be found.')\r\n",
    "        print ('Make sure both are in the same folder as this file,')\r\n",
    "        print ('or appropriately adjust the file \"sim.py\"')\r\n",
    "        print ('--------------------------------------------------------------')\r\n",
    "        print ('')\r\n",
    "\r\n",
    "    sim.simxFinish(-1) # just in case, close all opened connections\r\n",
    "    clientID=sim.simxStart('127.0.0.1',19997,True,True,5000,5) # Connect to CoppeliaSim\r\n",
    "    if clientID!=-1:\r\n",
    "        print ('Connected to remote API server')\r\n",
    "        print(\"Simulation Started\", end =\" \")\r\n",
    "        # enable the synchronous mode on the client:\r\n",
    "        sim.simxSynchronous(clientID,True)\r\n",
    "\r\n",
    "        # start the simulation:\r\n",
    "        sim.simxStartSimulation(clientID,sim.simx_opmode_blocking)\r\n",
    "\r\n",
    "        ## Handle \r\n",
    "        returnCode,Robot = sim.simxGetObjectHandle(clientID,'Pioneer_p3dx',sim.simx_opmode_blocking)\r\n",
    "        returnCode,left_Motor= sim.simxGetObjectHandle(clientID,'Pioneer_p3dx_leftMotor',sim.simx_opmode_blocking)\r\n",
    "        returnCode,right_Motor= sim.simxGetObjectHandle(clientID,'Pioneer_p3dx_rightMotor',sim.simx_opmode_blocking)\r\n",
    "        returnCode,front_Sensor =sim.simxGetObjectHandle(clientID,'Pioneer_p3dx_ultrasonicSensor5',sim.simx_opmode_blocking)\r\n",
    "        returnCode,camera= sim.simxGetObjectHandle(clientID,'Vision_sensor',sim.simx_opmode_blocking)\r\n",
    "        returnCode,resolution,image = sim.simxGetVisionSensorImage(clientID,camera,1,sim.simx_opmode_streaming)\r\n",
    "    \r\n",
    "            \r\n",
    "        #Periodo de amostragem e tempo de simulacao\r\n",
    "        T = Passo # Tempo de passo. Tem de estar em concordancia com Vrep!\r\n",
    "        Tsim = 10  # segundos\r\n",
    "        t = np.arange(0,Tsim,T)\r\n",
    "        N = len(t)\r\n",
    "\r\n",
    "        #Pose inicial\r\n",
    "        returnCode,Real_Robot_position = sim.simxGetObjectPosition(clientID,Robot,-1,sim.simx_opmode_blocking)\r\n",
    "        P = np.array(Real_Robot_position).reshape((3,1))\r\n",
    "        PosicaoInicial = P\r\n",
    "        PosicaoRealHistorico = P - PosicaoInicial\r\n",
    "\r\n",
    "    \r\n",
    "        # Now step a few times:\r\n",
    "        for i in range(0,N-1):\r\n",
    "            #Anda um passo de simulacao\r\n",
    "            sim.simxSynchronousTrigger(clientID)\r\n",
    "            \r\n",
    "            \r\n",
    "            #Velocidade de referencia\r\n",
    "            v_motor_l= velocidadeAngularRodaEsquerda\r\n",
    "            v_motor_r= velocidadeAngularRodaDireita\r\n",
    "            \r\n",
    "            returnCode=sim.simxSetJointTargetVelocity(clientID,left_Motor,v_motor_l,sim.simx_opmode_blocking)\r\n",
    "            returnCode=sim.simxSetJointTargetVelocity(clientID,right_Motor,v_motor_r,sim.simx_opmode_blocking)\r\n",
    "\r\n",
    "            \r\n",
    "            returnCode,Real_Robot_position = sim.simxGetObjectPosition(clientID,Robot,-1,sim.simx_opmode_blocking)\r\n",
    "            P = np.array(Real_Robot_position).reshape((3,1)) - PosicaoInicial\r\n",
    "            PosicaoRealHistorico = np.append(PosicaoRealHistorico,P,axis=1)\r\n",
    "            b = \"Simulando \" + str((i/(N-1))*100) + '%'\r\n",
    "            #print (b)\r\n",
    "            sys.stdout.write('\\r'+b)\r\n",
    "            returnCode,resolution,image =sim.simxGetVisionSensorImage(clientID,camera,1,sim.simx_opmode_buffer)\r\n",
    "            if returnCode == sim.simx_return_ok :\r\n",
    "                imageAcquisitionTime=sim.simxGetLastCmdTime(clientID)\r\n",
    "                #time.sleep(.5)\r\n",
    "                img = np.array(image,dtype=np.uint8)\r\n",
    "                img.resize([resolution[1],resolution[0]])\r\n",
    "\r\n",
    "                img = np.flip(img)\r\n",
    "                img = np.fliplr(img)\r\n",
    "                cv2.imshow('image',img)\r\n",
    "                if cv2.waitKey(1) & 0xFF == ord('q'):\r\n",
    "                    break\r\n",
    "\r\n",
    "        \r\n",
    "        # stop the simulation:\r\n",
    "        sim.simxStopSimulation(clientID,sim.simx_opmode_blocking)\r\n",
    "        print()\r\n",
    "        print('Simulation Stopped')\r\n",
    "\r\n",
    "        # Now close the connection to CoppeliaSim:\r\n",
    "        sim.simxFinish(clientID)\r\n",
    "        print('Simulation Closed')\r\n",
    "\r\n",
    "\r\n",
    "    else:\r\n",
    "        print ('Failed connecting to remote API server')\r\n",
    "        print ('Program ended')\r\n",
    "    return PosicaoRealHistorico"
   ],
   "outputs": [],
   "metadata": {}
  },
  {
   "cell_type": "code",
   "execution_count": 69,
   "source": [
    "velocidadeAngularRodaEsquerda = 1\r\n",
    "velocidadeAngularRodaDireita = 1.2\r\n",
    "PosicaoRealHistorico = Simula(velocidadeAngularRodaDireita,velocidadeAngularRodaEsquerda,Passo=0.05)\r\n",
    "\r\n",
    "PosicaoModeloHistorico = SimulaModeloUm(velocidadeAngularRodaDireita,velocidadeAngularRodaEsquerda, Passo=0.05)\r\n",
    "\r\n",
    "plt.rcParams[\"figure.figsize\"] = (10,10)\r\n",
    "\r\n",
    "PosicaoRealX = PosicaoRealHistorico[0,:]\r\n",
    "PosicaoRealY = PosicaoRealHistorico[1,:]\r\n",
    "AnguloReal = PosicaoRealHistorico[2,:]\r\n",
    "\r\n",
    "plt.plot(PosicaoRealX,PosicaoRealY,color='red', label=\"Ground Truth\")\r\n",
    "\r\n",
    "PosicaoX = PosicaoModeloHistorico[0,:]\r\n",
    "PosicaoY = PosicaoModeloHistorico[1,:]\r\n",
    "Angulo = PosicaoModeloHistorico[2,:]\r\n",
    "plt.plot(PosicaoX,PosicaoY,color='blue',ls='--', label=\"Modelo\")\r\n",
    "Title = 'Trajetória Robô Ve ='+ str(velocidadeAngularRodaEsquerda) + ' Vd =' + str(velocidadeAngularRodaDireita)\r\n",
    "plt.title(Title)\r\n",
    "plt.xlabel('X')\r\n",
    "plt.ylabel('Y')\r\n",
    "plt.axis('square')\r\n",
    "plt.legend()"
   ],
   "outputs": [
    {
     "output_type": "stream",
     "name": "stdout",
     "text": [
      "Connected to remote API server\n",
      "Simulando 99.49748743718592%\n",
      "Simulation Stopped\n",
      "Simulation Closed\n"
     ]
    },
    {
     "output_type": "execute_result",
     "data": {
      "text/plain": [
       "<matplotlib.legend.Legend at 0x24dc7e16820>"
      ]
     },
     "metadata": {},
     "execution_count": 69
    },
    {
     "output_type": "display_data",
     "data": {
      "image/png": "[encoded data removed]",
      "text/plain": [
       "<Figure size 720x720 with 1 Axes>"
      ]
     },
     "metadata": {
      "needs_background": "light"
     }
    }
   ],
   "metadata": {}
  },
  {
   "cell_type": "code",
   "execution_count": 70,
   "source": [
    "velocidadeAngularRodaEsquerda = 1\r\n",
    "velocidadeAngularRodaDireita = 0\r\n",
    "PosicaoRealHistorico = Simula(velocidadeAngularRodaDireita,velocidadeAngularRodaEsquerda,Passo=0.05)\r\n",
    "\r\n",
    "PosicaoModeloHistorico = SimulaModeloUm(velocidadeAngularRodaDireita,velocidadeAngularRodaEsquerda, Passo=0.05)\r\n",
    "\r\n",
    "plt.rcParams[\"figure.figsize\"] = (10,10)\r\n",
    "\r\n",
    "PosicaoRealX = PosicaoRealHistorico[0,:]\r\n",
    "PosicaoRealY = PosicaoRealHistorico[1,:]\r\n",
    "AnguloReal = PosicaoRealHistorico[2,:]\r\n",
    "\r\n",
    "plt.plot(PosicaoRealX,PosicaoRealY,color='red', label=\"Ground Truth\")\r\n",
    "\r\n",
    "PosicaoX = PosicaoModeloHistorico[0,:]\r\n",
    "PosicaoY = PosicaoModeloHistorico[1,:]\r\n",
    "Angulo = PosicaoModeloHistorico[2,:]\r\n",
    "plt.plot(PosicaoX,PosicaoY,color='blue',ls='--', label=\"Modelo\")\r\n",
    "Title = 'Trajetória Robô Ve ='+ str(velocidadeAngularRodaEsquerda) + ' Vd =' + str(velocidadeAngularRodaDireita)\r\n",
    "plt.title(Title)\r\n",
    "plt.xlabel('X')\r\n",
    "plt.ylabel('Y')\r\n",
    "plt.axis('square')\r\n",
    "plt.legend()"
   ],
   "outputs": [
    {
     "output_type": "stream",
     "name": "stdout",
     "text": [
      "Connected to remote API server\n",
      "Simulando 99.49748743718592%\n",
      "Simulation Stopped\n",
      "Simulation Closed\n"
     ]
    },
    {
     "output_type": "execute_result",
     "data": {
      "text/plain": [
       "<matplotlib.legend.Legend at 0x24dc7e3bf10>"
      ]
     },
     "metadata": {},
     "execution_count": 70
    },
    {
     "output_type": "display_data",
     "data": {
      "image/png": "[encoded data removed]",
      "text/plain": [
       "<Figure size 720x720 with 1 Axes>"
      ]
     },
     "metadata": {
      "needs_background": "light"
     }
    }
   ],
   "metadata": {}
  },
  {
   "cell_type": "code",
   "execution_count": 71,
   "source": [
    "velocidadeAngularRodaEsquerda = 2\r\n",
    "velocidadeAngularRodaDireita = 2\r\n",
    "PosicaoRealHistorico = Simula(velocidadeAngularRodaDireita,velocidadeAngularRodaEsquerda,Passo=0.05)\r\n",
    "\r\n",
    "PosicaoModeloHistorico = SimulaModeloUm(velocidadeAngularRodaDireita,velocidadeAngularRodaEsquerda, Passo=0.05)\r\n",
    "\r\n",
    "plt.rcParams[\"figure.figsize\"] = (10,10)\r\n",
    "\r\n",
    "PosicaoRealX = PosicaoRealHistorico[0,:]\r\n",
    "PosicaoRealY = PosicaoRealHistorico[1,:]\r\n",
    "AnguloReal = PosicaoRealHistorico[2,:]\r\n",
    "\r\n",
    "plt.plot(PosicaoRealX,PosicaoRealY,color='red', label=\"Ground Truth\")\r\n",
    "\r\n",
    "PosicaoX = PosicaoModeloHistorico[0,:]\r\n",
    "PosicaoY = PosicaoModeloHistorico[1,:]\r\n",
    "Angulo = PosicaoModeloHistorico[2,:]\r\n",
    "plt.plot(PosicaoX,PosicaoY,color='blue',ls='--', label=\"Modelo\")\r\n",
    "Title = 'Trajetória Robô Ve ='+ str(velocidadeAngularRodaEsquerda) + ' Vd =' + str(velocidadeAngularRodaDireita)\r\n",
    "plt.title(Title)\r\n",
    "plt.xlabel('X')\r\n",
    "plt.ylabel('Y')\r\n",
    "plt.axis('square')\r\n",
    "plt.legend()"
   ],
   "outputs": [
    {
     "output_type": "stream",
     "name": "stdout",
     "text": [
      "Connected to remote API server\n",
      "Simulando 99.49748743718592%\n",
      "Simulation Stopped\n",
      "Simulation Closed\n"
     ]
    },
    {
     "output_type": "execute_result",
     "data": {
      "text/plain": [
       "<matplotlib.legend.Legend at 0x24dc86fcc10>"
      ]
     },
     "metadata": {},
     "execution_count": 71
    },
    {
     "output_type": "display_data",
     "data": {
      "image/png": "[encoded data removed]",
      "text/plain": [
       "<Figure size 720x720 with 1 Axes>"
      ]
     },
     "metadata": {
      "needs_background": "light"
     }
    }
   ],
   "metadata": {}
  },
  {
   "cell_type": "code",
   "execution_count": null,
   "source": [],
   "outputs": [],
   "metadata": {}
  }
 ],
 "metadata": {
  "kernelspec": {
   "name": "python3",
   "display_name": "Python 3.8.10 64-bit (system)"
  },
  "language_info": {
   "codemirror_mode": {
    "name": "ipython",
    "version": 3
   },
   "file_extension": ".py",
   "mimetype": "text/x-python",
   "name": "python",
   "nbconvert_exporter": "python",
   "pygments_lexer": "ipython3",
   "version": "3.8.10"
  },
  "interpreter": {
   "hash": "e06db193390ac274e2c0ffc12ca17a29a65b9f5b4e35b8edb056aa72859d62d6"
  }
 },
 "nbformat": 4,
 "nbformat_minor": 5
}