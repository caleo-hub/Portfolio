{
 "cells": [
  {
   "cell_type": "code",
   "execution_count": 1,
   "id": "c0b76602-7ff1-43a7-8e07-6d53b51a4b1d",
   "metadata": {},
   "outputs": [],
   "source": [
    "a = 2\n",
    "\n",
    "if a == 2:\n",
    "    a = 3\n"
   ]
  },
  {
   "cell_type": "code",
   "execution_count": 2,
   "id": "18f8333a-5634-4240-86b4-890ffb861576",
   "metadata": {},
   "outputs": [
    {
     "name": "stdout",
     "output_type": "stream",
     "text": [
      "3\n"
     ]
    }
   ],
   "source": [
    "print(a)"
   ]
  },
  {
   "cell_type": "code",
   "execution_count": null,
   "id": "80e467ab-5db2-45a3-8316-e66d18b1638d",
   "metadata": {},
   "outputs": [],
   "source": []
  }
 ],
 "metadata": {
  "kernelspec": {
   "display_name": "Python 3 (ipykernel)",
   "language": "python",
   "name": "python3"
  },
  "language_info": {
   "codemirror_mode": {
    "name": "ipython",
    "version": 3
   },
   "file_extension": ".py",
   "mimetype": "text/x-python",
   "name": "python",
   "nbconvert_exporter": "python",
   "pygments_lexer": "ipython3",
   "version": "3.8.10"
  }
 },
 "nbformat": 4,
 "nbformat_minor": 5
}
