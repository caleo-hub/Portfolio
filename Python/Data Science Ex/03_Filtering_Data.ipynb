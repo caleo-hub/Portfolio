{
 "cells": [
  {
   "cell_type": "markdown",
   "id": "218c19e5-158e-4e8b-b360-920a77af7647",
   "metadata": {},
   "source": [
    "___\n",
    "# Data Manipulation: Basics\n",
    "\n",
    "## Filtering Data\n",
    "___\n",
    "\n",
    "### Importing libraries and Classes"
   ]
  },
  {
   "cell_type": "code",
   "execution_count": 1,
   "id": "dd0ffe6f-e6d3-4ebf-8449-133023f418fb",
   "metadata": {},
   "outputs": [],
   "source": [
    "import numpy as np\n",
    "import pandas as pd\n",
    "\n",
    "from pandas import Series, DataFrame"
   ]
  },
  {
   "cell_type": "code",
   "execution_count": 2,
   "id": "e7cec89d-4274-487f-b073-b501c4281947",
   "metadata": {},
   "outputs": [
    {
     "data": {
      "text/html": [
       "<div>\n",
       "<style scoped>\n",
       "    .dataframe tbody tr th:only-of-type {\n",
       "        vertical-align: middle;\n",
       "    }\n",
       "\n",
       "    .dataframe tbody tr th {\n",
       "        vertical-align: top;\n",
       "    }\n",
       "\n",
       "    .dataframe thead th {\n",
       "        text-align: right;\n",
       "    }\n",
       "</style>\n",
       "<table border=\"1\" class=\"dataframe\">\n",
       "  <thead>\n",
       "    <tr style=\"text-align: right;\">\n",
       "      <th></th>\n",
       "      <th>columns 1</th>\n",
       "      <th>columns 2</th>\n",
       "      <th>columns 3</th>\n",
       "      <th>columns 4</th>\n",
       "      <th>columns 5</th>\n",
       "      <th>columns 6</th>\n",
       "    </tr>\n",
       "  </thead>\n",
       "  <tbody>\n",
       "    <tr>\n",
       "      <th>row 1</th>\n",
       "      <td>0.048725</td>\n",
       "      <td>0.289110</td>\n",
       "      <td>0.720966</td>\n",
       "      <td>0.021616</td>\n",
       "      <td>0.205923</td>\n",
       "      <td>0.050773</td>\n",
       "    </tr>\n",
       "    <tr>\n",
       "      <th>row 2</th>\n",
       "      <td>0.302272</td>\n",
       "      <td>0.663910</td>\n",
       "      <td>0.308114</td>\n",
       "      <td>0.583591</td>\n",
       "      <td>0.069571</td>\n",
       "      <td>0.867404</td>\n",
       "    </tr>\n",
       "    <tr>\n",
       "      <th>row 3</th>\n",
       "      <td>0.133241</td>\n",
       "      <td>0.178125</td>\n",
       "      <td>0.495930</td>\n",
       "      <td>0.863700</td>\n",
       "      <td>0.758944</td>\n",
       "      <td>0.970485</td>\n",
       "    </tr>\n",
       "    <tr>\n",
       "      <th>row 4</th>\n",
       "      <td>0.759303</td>\n",
       "      <td>0.384250</td>\n",
       "      <td>0.408718</td>\n",
       "      <td>0.713360</td>\n",
       "      <td>0.270670</td>\n",
       "      <td>0.854103</td>\n",
       "    </tr>\n",
       "    <tr>\n",
       "      <th>row 5</th>\n",
       "      <td>0.913164</td>\n",
       "      <td>0.760756</td>\n",
       "      <td>0.516669</td>\n",
       "      <td>0.167836</td>\n",
       "      <td>0.298692</td>\n",
       "      <td>0.283943</td>\n",
       "    </tr>\n",
       "    <tr>\n",
       "      <th>row 6</th>\n",
       "      <td>0.327213</td>\n",
       "      <td>0.460140</td>\n",
       "      <td>0.544368</td>\n",
       "      <td>0.217401</td>\n",
       "      <td>0.799868</td>\n",
       "      <td>0.726684</td>\n",
       "    </tr>\n",
       "  </tbody>\n",
       "</table>\n",
       "</div>"
      ],
      "text/plain": [
       "       columns 1  columns 2  columns 3  columns 4  columns 5  columns 6\n",
       "row 1   0.048725   0.289110   0.720966   0.021616   0.205923   0.050773\n",
       "row 2   0.302272   0.663910   0.308114   0.583591   0.069571   0.867404\n",
       "row 3   0.133241   0.178125   0.495930   0.863700   0.758944   0.970485\n",
       "row 4   0.759303   0.384250   0.408718   0.713360   0.270670   0.854103\n",
       "row 5   0.913164   0.760756   0.516669   0.167836   0.298692   0.283943\n",
       "row 6   0.327213   0.460140   0.544368   0.217401   0.799868   0.726684"
      ]
     },
     "execution_count": 2,
     "metadata": {},
     "output_type": "execute_result"
    }
   ],
   "source": [
    "np.random.seed(21)\n",
    "index = ['row 1', 'row 2', 'row 3',\n",
    "        'row 4', 'row 5', 'row 6']\n",
    "columns = ['columns 1', 'columns 2', 'columns 3',\n",
    "           'columns 4','columns 5','columns 6']\n",
    "df = DataFrame(np.random.rand(36).reshape(6,6),\n",
    "               index=index,\n",
    "               columns=columns)\n",
    "df"
   ]
  },
  {
   "cell_type": "markdown",
   "id": "343930d9-3c34-4970-b4fd-d269751c86d2",
   "metadata": {},
   "source": [
    "#### Comparing with a value\n",
    "##### object_name < value"
   ]
  },
  {
   "cell_type": "code",
   "execution_count": 3,
   "id": "a5c319a2-6166-477c-bc37-93aef35d6701",
   "metadata": {},
   "outputs": [
    {
     "data": {
      "text/html": [
       "<div>\n",
       "<style scoped>\n",
       "    .dataframe tbody tr th:only-of-type {\n",
       "        vertical-align: middle;\n",
       "    }\n",
       "\n",
       "    .dataframe tbody tr th {\n",
       "        vertical-align: top;\n",
       "    }\n",
       "\n",
       "    .dataframe thead th {\n",
       "        text-align: right;\n",
       "    }\n",
       "</style>\n",
       "<table border=\"1\" class=\"dataframe\">\n",
       "  <thead>\n",
       "    <tr style=\"text-align: right;\">\n",
       "      <th></th>\n",
       "      <th>columns 1</th>\n",
       "      <th>columns 2</th>\n",
       "      <th>columns 3</th>\n",
       "      <th>columns 4</th>\n",
       "      <th>columns 5</th>\n",
       "      <th>columns 6</th>\n",
       "    </tr>\n",
       "  </thead>\n",
       "  <tbody>\n",
       "    <tr>\n",
       "      <th>row 1</th>\n",
       "      <td>True</td>\n",
       "      <td>False</td>\n",
       "      <td>False</td>\n",
       "      <td>True</td>\n",
       "      <td>False</td>\n",
       "      <td>True</td>\n",
       "    </tr>\n",
       "    <tr>\n",
       "      <th>row 2</th>\n",
       "      <td>False</td>\n",
       "      <td>False</td>\n",
       "      <td>False</td>\n",
       "      <td>False</td>\n",
       "      <td>True</td>\n",
       "      <td>False</td>\n",
       "    </tr>\n",
       "    <tr>\n",
       "      <th>row 3</th>\n",
       "      <td>True</td>\n",
       "      <td>True</td>\n",
       "      <td>False</td>\n",
       "      <td>False</td>\n",
       "      <td>False</td>\n",
       "      <td>False</td>\n",
       "    </tr>\n",
       "    <tr>\n",
       "      <th>row 4</th>\n",
       "      <td>False</td>\n",
       "      <td>False</td>\n",
       "      <td>False</td>\n",
       "      <td>False</td>\n",
       "      <td>False</td>\n",
       "      <td>False</td>\n",
       "    </tr>\n",
       "    <tr>\n",
       "      <th>row 5</th>\n",
       "      <td>False</td>\n",
       "      <td>False</td>\n",
       "      <td>False</td>\n",
       "      <td>True</td>\n",
       "      <td>False</td>\n",
       "      <td>False</td>\n",
       "    </tr>\n",
       "    <tr>\n",
       "      <th>row 6</th>\n",
       "      <td>False</td>\n",
       "      <td>False</td>\n",
       "      <td>False</td>\n",
       "      <td>False</td>\n",
       "      <td>False</td>\n",
       "      <td>False</td>\n",
       "    </tr>\n",
       "  </tbody>\n",
       "</table>\n",
       "</div>"
      ],
      "text/plain": [
       "       columns 1  columns 2  columns 3  columns 4  columns 5  columns 6\n",
       "row 1       True      False      False       True      False       True\n",
       "row 2      False      False      False      False       True      False\n",
       "row 3       True       True      False      False      False      False\n",
       "row 4      False      False      False      False      False      False\n",
       "row 5      False      False      False       True      False      False\n",
       "row 6      False      False      False      False      False      False"
      ]
     },
     "execution_count": 3,
     "metadata": {},
     "output_type": "execute_result"
    }
   ],
   "source": [
    "df < .2"
   ]
  },
  {
   "cell_type": "markdown",
   "id": "00c866bb-d85c-49bb-8cb7-6cd02b1589d4",
   "metadata": {},
   "source": [
    "#### Using value to filter\n",
    "##### object_name[object_name > value]"
   ]
  },
  {
   "cell_type": "code",
   "execution_count": 4,
   "id": "2dd9c0e4-69f7-43a4-90e3-d89328ab8b37",
   "metadata": {},
   "outputs": [
    {
     "data": {
      "text/plain": [
       "row 1    0\n",
       "row 2    1\n",
       "row 3    2\n",
       "row 4    3\n",
       "row 5    4\n",
       "row 6    5\n",
       "row 7    6\n",
       "row 8    7\n",
       "dtype: int32"
      ]
     },
     "execution_count": 4,
     "metadata": {},
     "output_type": "execute_result"
    }
   ],
   "source": [
    "index = ['row 1', 'row 2', 'row 3', 'row 4', \n",
    "         'row 5', 'row 6', 'row 7', 'row 8']\n",
    "series_obj = Series(np.arange(8), index=index)\n",
    "series_obj "
   ]
  },
  {
   "cell_type": "code",
   "execution_count": 5,
   "id": "6152b877-a742-4ff0-81cb-af15b78ea819",
   "metadata": {},
   "outputs": [
    {
     "data": {
      "text/plain": [
       "row 8    7\n",
       "dtype: int32"
      ]
     },
     "execution_count": 5,
     "metadata": {},
     "output_type": "execute_result"
    }
   ],
   "source": [
    "filter = series_obj>6\n",
    "series_obj[filter]"
   ]
  },
  {
   "cell_type": "markdown",
   "id": "a2592f38-7010-4061-86a2-ceccf9e65e96",
   "metadata": {},
   "source": [
    "#### Updating Value\n",
    "##### object_name['index','index','index'] = value"
   ]
  },
  {
   "cell_type": "code",
   "execution_count": 6,
   "id": "829e94c0-675d-4bef-a593-002fdf7b60b9",
   "metadata": {},
   "outputs": [
    {
     "data": {
      "text/plain": [
       "row 1    21\n",
       "row 2     1\n",
       "row 3     2\n",
       "row 4     3\n",
       "row 5    21\n",
       "row 6     5\n",
       "row 7     6\n",
       "row 8    21\n",
       "dtype: int32"
      ]
     },
     "execution_count": 6,
     "metadata": {},
     "output_type": "execute_result"
    }
   ],
   "source": [
    "series_obj['row 1', 'row 5', 'row 8'] = 21\n",
    "series_obj"
   ]
  },
  {
   "cell_type": "code",
   "execution_count": null,
   "id": "289b9f75-22b3-4b88-a5c2-37b9eaeeb21b",
   "metadata": {},
   "outputs": [],
   "source": []
  }
 ],
 "metadata": {
  "kernelspec": {
   "display_name": "Python 3 (ipykernel)",
   "language": "python",
   "name": "python3"
  },
  "language_info": {
   "codemirror_mode": {
    "name": "ipython",
    "version": 3
   },
   "file_extension": ".py",
   "mimetype": "text/x-python",
   "name": "python",
   "nbconvert_exporter": "python",
   "pygments_lexer": "ipython3",
   "version": "3.8.10"
  }
 },
 "nbformat": 4,
 "nbformat_minor": 5
}
