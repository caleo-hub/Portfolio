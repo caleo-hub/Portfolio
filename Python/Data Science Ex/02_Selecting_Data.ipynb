{
 "cells": [
  {
   "cell_type": "markdown",
   "id": "1384614c-8fe7-45f1-ae94-73289a5c9cfb",
   "metadata": {},
   "source": [
    "___\n",
    "# Data Manipulation: Basics\n",
    "\n",
    "## Selecting data\n",
    "___\n",
    "\n",
    "### Importing libraries and Classes"
   ]
  },
  {
   "cell_type": "code",
   "execution_count": 1,
   "id": "9a2fc73c-baf2-4a48-9a24-62798567f0a9",
   "metadata": {},
   "outputs": [],
   "source": [
    "import numpy as np\n",
    "import pandas as pd\n",
    "\n",
    "from pandas import Series, DataFrame"
   ]
  },
  {
   "cell_type": "markdown",
   "id": "357168d1-07fc-4209-b835-bde5130b5a0f",
   "metadata": {},
   "source": [
    "### Creating data"
   ]
  },
  {
   "cell_type": "code",
   "execution_count": 2,
   "id": "ea5e9eb9-33c6-4709-ac3c-386197daa739",
   "metadata": {},
   "outputs": [
    {
     "data": {
      "text/plain": [
       "array([0, 1, 2, 3, 4, 5, 6, 7])"
      ]
     },
     "execution_count": 2,
     "metadata": {},
     "output_type": "execute_result"
    }
   ],
   "source": [
    "data = np.arange(8)\n",
    "data"
   ]
  },
  {
   "cell_type": "code",
   "execution_count": 3,
   "id": "403b404b-2edf-4275-8e61-23265bd1d85e",
   "metadata": {},
   "outputs": [
    {
     "data": {
      "text/plain": [
       "array([[0, 1],\n",
       "       [2, 3],\n",
       "       [4, 5],\n",
       "       [6, 7]])"
      ]
     },
     "execution_count": 3,
     "metadata": {},
     "output_type": "execute_result"
    }
   ],
   "source": [
    "data = data.reshape((4,2))\n",
    "data"
   ]
  },
  {
   "cell_type": "markdown",
   "id": "89fb7dc3-8a9c-44ae-ac8e-57f3c5b0c7dd",
   "metadata": {},
   "source": [
    "### Selecting and searching data"
   ]
  },
  {
   "cell_type": "code",
   "execution_count": 4,
   "id": "6ebd3e36-364a-49b7-9c94-9514072a9a6e",
   "metadata": {},
   "outputs": [
    {
     "data": {
      "text/plain": [
       "row 1    0\n",
       "row 2    1\n",
       "row 3    2\n",
       "row 4    3\n",
       "row 5    4\n",
       "row 6    5\n",
       "row 7    6\n",
       "row 8    7\n",
       "dtype: int32"
      ]
     },
     "execution_count": 4,
     "metadata": {},
     "output_type": "execute_result"
    }
   ],
   "source": [
    "data  = np.arange(8)\n",
    "index = ['row 1', 'row 2', 'row 3', 'row 4', \n",
    "         'row 5', 'row 6', 'row 7', 'row 8']\n",
    "serie = Series(data,index=index)\n",
    "serie"
   ]
  },
  {
   "cell_type": "markdown",
   "id": "983462fc-3d70-474c-981c-3cb6b8992a29",
   "metadata": {},
   "source": [
    "##### ['index']"
   ]
  },
  {
   "cell_type": "code",
   "execution_count": 5,
   "id": "a03c3f53-2f51-4d75-87cf-5f011d4155d6",
   "metadata": {},
   "outputs": [
    {
     "data": {
      "text/plain": [
       "6"
      ]
     },
     "execution_count": 5,
     "metadata": {},
     "output_type": "execute_result"
    }
   ],
   "source": [
    "serie['row 7']"
   ]
  },
  {
   "cell_type": "code",
   "execution_count": 6,
   "id": "937797d7-ba81-420e-a7f1-f923a7de19e5",
   "metadata": {},
   "outputs": [
    {
     "data": {
      "text/html": [
       "<div>\n",
       "<style scoped>\n",
       "    .dataframe tbody tr th:only-of-type {\n",
       "        vertical-align: middle;\n",
       "    }\n",
       "\n",
       "    .dataframe tbody tr th {\n",
       "        vertical-align: top;\n",
       "    }\n",
       "\n",
       "    .dataframe thead th {\n",
       "        text-align: right;\n",
       "    }\n",
       "</style>\n",
       "<table border=\"1\" class=\"dataframe\">\n",
       "  <thead>\n",
       "    <tr style=\"text-align: right;\">\n",
       "      <th></th>\n",
       "      <th>columns 1</th>\n",
       "      <th>columns 2</th>\n",
       "      <th>columns 3</th>\n",
       "      <th>columns 4</th>\n",
       "      <th>columns 5</th>\n",
       "      <th>columns 6</th>\n",
       "    </tr>\n",
       "  </thead>\n",
       "  <tbody>\n",
       "    <tr>\n",
       "      <th>row 1</th>\n",
       "      <td>0.048725</td>\n",
       "      <td>0.289110</td>\n",
       "      <td>0.720966</td>\n",
       "      <td>0.021616</td>\n",
       "      <td>0.205923</td>\n",
       "      <td>0.050773</td>\n",
       "    </tr>\n",
       "    <tr>\n",
       "      <th>row 2</th>\n",
       "      <td>0.302272</td>\n",
       "      <td>0.663910</td>\n",
       "      <td>0.308114</td>\n",
       "      <td>0.583591</td>\n",
       "      <td>0.069571</td>\n",
       "      <td>0.867404</td>\n",
       "    </tr>\n",
       "    <tr>\n",
       "      <th>row 3</th>\n",
       "      <td>0.133241</td>\n",
       "      <td>0.178125</td>\n",
       "      <td>0.495930</td>\n",
       "      <td>0.863700</td>\n",
       "      <td>0.758944</td>\n",
       "      <td>0.970485</td>\n",
       "    </tr>\n",
       "    <tr>\n",
       "      <th>row 4</th>\n",
       "      <td>0.759303</td>\n",
       "      <td>0.384250</td>\n",
       "      <td>0.408718</td>\n",
       "      <td>0.713360</td>\n",
       "      <td>0.270670</td>\n",
       "      <td>0.854103</td>\n",
       "    </tr>\n",
       "    <tr>\n",
       "      <th>row 5</th>\n",
       "      <td>0.913164</td>\n",
       "      <td>0.760756</td>\n",
       "      <td>0.516669</td>\n",
       "      <td>0.167836</td>\n",
       "      <td>0.298692</td>\n",
       "      <td>0.283943</td>\n",
       "    </tr>\n",
       "    <tr>\n",
       "      <th>row 6</th>\n",
       "      <td>0.327213</td>\n",
       "      <td>0.460140</td>\n",
       "      <td>0.544368</td>\n",
       "      <td>0.217401</td>\n",
       "      <td>0.799868</td>\n",
       "      <td>0.726684</td>\n",
       "    </tr>\n",
       "  </tbody>\n",
       "</table>\n",
       "</div>"
      ],
      "text/plain": [
       "       columns 1  columns 2  columns 3  columns 4  columns 5  columns 6\n",
       "row 1   0.048725   0.289110   0.720966   0.021616   0.205923   0.050773\n",
       "row 2   0.302272   0.663910   0.308114   0.583591   0.069571   0.867404\n",
       "row 3   0.133241   0.178125   0.495930   0.863700   0.758944   0.970485\n",
       "row 4   0.759303   0.384250   0.408718   0.713360   0.270670   0.854103\n",
       "row 5   0.913164   0.760756   0.516669   0.167836   0.298692   0.283943\n",
       "row 6   0.327213   0.460140   0.544368   0.217401   0.799868   0.726684"
      ]
     },
     "execution_count": 6,
     "metadata": {},
     "output_type": "execute_result"
    }
   ],
   "source": [
    "np.random.seed(21)\n",
    "index = ['row 1', 'row 2', 'row 3',\n",
    "        'row 4', 'row 5', 'row 6']\n",
    "columns = ['columns 1', 'columns 2', 'columns 3',\n",
    "           'columns 4','columns 5','columns 6']\n",
    "df = DataFrame(np.random.rand(36).reshape(6,6),\n",
    "               index=index,\n",
    "               columns=columns)\n",
    "df"
   ]
  },
  {
   "cell_type": "markdown",
   "id": "e671e3a3-b0fa-4b82-984d-0dc5d0264b3f",
   "metadata": {},
   "source": [
    "##### object_name.loc[[row],[columns]]"
   ]
  },
  {
   "cell_type": "code",
   "execution_count": 7,
   "id": "1c66ec97-85e8-4a35-97ba-42465b01392c",
   "metadata": {},
   "outputs": [
    {
     "data": {
      "text/html": [
       "<div>\n",
       "<style scoped>\n",
       "    .dataframe tbody tr th:only-of-type {\n",
       "        vertical-align: middle;\n",
       "    }\n",
       "\n",
       "    .dataframe tbody tr th {\n",
       "        vertical-align: top;\n",
       "    }\n",
       "\n",
       "    .dataframe thead th {\n",
       "        text-align: right;\n",
       "    }\n",
       "</style>\n",
       "<table border=\"1\" class=\"dataframe\">\n",
       "  <thead>\n",
       "    <tr style=\"text-align: right;\">\n",
       "      <th></th>\n",
       "      <th>columns 3</th>\n",
       "      <th>columns 5</th>\n",
       "    </tr>\n",
       "  </thead>\n",
       "  <tbody>\n",
       "    <tr>\n",
       "      <th>row 2</th>\n",
       "      <td>0.308114</td>\n",
       "      <td>0.069571</td>\n",
       "    </tr>\n",
       "    <tr>\n",
       "      <th>row 4</th>\n",
       "      <td>0.408718</td>\n",
       "      <td>0.270670</td>\n",
       "    </tr>\n",
       "  </tbody>\n",
       "</table>\n",
       "</div>"
      ],
      "text/plain": [
       "       columns 3  columns 5\n",
       "row 2   0.308114   0.069571\n",
       "row 4   0.408718   0.270670"
      ]
     },
     "execution_count": 7,
     "metadata": {},
     "output_type": "execute_result"
    }
   ],
   "source": [
    "df.loc[['row 2' ,'row 4'],['columns 3', 'columns 5']]"
   ]
  },
  {
   "cell_type": "markdown",
   "id": "8db0122d-1047-4a24-b08d-34b71217bcf6",
   "metadata": {},
   "source": [
    "#### Slicing data"
   ]
  },
  {
   "cell_type": "markdown",
   "id": "5132efc6-2475-4231-bf87-918c7565093c",
   "metadata": {},
   "source": [
    "['initial index': 'final index']"
   ]
  },
  {
   "cell_type": "code",
   "execution_count": 8,
   "id": "8315b2cf-8519-440f-8661-9fa08d1d352d",
   "metadata": {},
   "outputs": [
    {
     "data": {
      "text/plain": [
       "row 3    2\n",
       "row 4    3\n",
       "row 5    4\n",
       "row 6    5\n",
       "row 7    6\n",
       "dtype: int32"
      ]
     },
     "execution_count": 8,
     "metadata": {},
     "output_type": "execute_result"
    }
   ],
   "source": [
    "serie['row 3':'row 7']"
   ]
  },
  {
   "cell_type": "code",
   "execution_count": null,
   "id": "e4e98ea2-9e0c-40b8-89ce-1f1e9f176d47",
   "metadata": {},
   "outputs": [],
   "source": []
  }
 ],
 "metadata": {
  "kernelspec": {
   "display_name": "Python 3 (ipykernel)",
   "language": "python",
   "name": "python3"
  },
  "language_info": {
   "codemirror_mode": {
    "name": "ipython",
    "version": 3
   },
   "file_extension": ".py",
   "mimetype": "text/x-python",
   "name": "python",
   "nbconvert_exporter": "python",
   "pygments_lexer": "ipython3",
   "version": "3.8.10"
  }
 },
 "nbformat": 4,
 "nbformat_minor": 5
}
