{
 "cells": [
  {
   "cell_type": "markdown",
   "id": "cb2ce54d-1829-4b39-afeb-59275ac2ee25",
   "metadata": {},
   "source": [
    "___\n",
    "# Data Manipulation: Basics\n",
    "\n",
    "## Finding and Filling in blank values\n",
    "___\n",
    "\n",
    "### Importing libraries and Classes"
   ]
  },
  {
   "cell_type": "code",
   "execution_count": 1,
   "id": "8a260d1e-1baa-49de-9be9-058020d605c4",
   "metadata": {},
   "outputs": [],
   "source": [
    "import numpy as np\n",
    "import pandas as pd\n",
    "\n",
    "from pandas import Series, DataFrame"
   ]
  },
  {
   "cell_type": "markdown",
   "id": "5b3101ff-0371-489a-89b7-1cdef100bded",
   "metadata": {},
   "source": [
    "#### Finding the blank values"
   ]
  },
  {
   "cell_type": "code",
   "execution_count": 2,
   "id": "0ac8af57-32c2-46f8-9105-7223e5d7aef0",
   "metadata": {},
   "outputs": [
    {
     "data": {
      "text/plain": [
       "0    row 1\n",
       "1    row 2\n",
       "2      NaN\n",
       "3    row 4\n",
       "4    row 5\n",
       "5    row 6\n",
       "6      NaN\n",
       "7    row 8\n",
       "dtype: object"
      ]
     },
     "execution_count": 2,
     "metadata": {},
     "output_type": "execute_result"
    }
   ],
   "source": [
    "in_blank = np.nan\n",
    "serie = Series(['row 1', 'row 2', in_blank, 'row 4',\n",
    "                'row 5', 'row 6', in_blank, 'row 8'])\n",
    "serie"
   ]
  },
  {
   "cell_type": "markdown",
   "id": "4731601b-59a9-4a2a-82d0-c6a89a4d6bab",
   "metadata": {},
   "source": [
    "##### object_name.isnull()"
   ]
  },
  {
   "cell_type": "code",
   "execution_count": 3,
   "id": "72b3f42b-c601-4779-810a-963298a7f6a6",
   "metadata": {},
   "outputs": [
    {
     "data": {
      "text/plain": [
       "0    False\n",
       "1    False\n",
       "2     True\n",
       "3    False\n",
       "4    False\n",
       "5    False\n",
       "6     True\n",
       "7    False\n",
       "dtype: bool"
      ]
     },
     "execution_count": 3,
     "metadata": {},
     "output_type": "execute_result"
    }
   ],
   "source": [
    "serie.isnull()"
   ]
  },
  {
   "cell_type": "markdown",
   "id": "6142aa4a-996d-4cdd-80ef-b68fdf1f64a4",
   "metadata": {},
   "source": [
    "#### Filling in blank values"
   ]
  },
  {
   "cell_type": "code",
   "execution_count": 4,
   "id": "fca30c02-9490-49f2-903a-3c086c830e2a",
   "metadata": {},
   "outputs": [
    {
     "data": {
      "text/html": [
       "<div>\n",
       "<style scoped>\n",
       "    .dataframe tbody tr th:only-of-type {\n",
       "        vertical-align: middle;\n",
       "    }\n",
       "\n",
       "    .dataframe tbody tr th {\n",
       "        vertical-align: top;\n",
       "    }\n",
       "\n",
       "    .dataframe thead th {\n",
       "        text-align: right;\n",
       "    }\n",
       "</style>\n",
       "<table border=\"1\" class=\"dataframe\">\n",
       "  <thead>\n",
       "    <tr style=\"text-align: right;\">\n",
       "      <th></th>\n",
       "      <th>0</th>\n",
       "      <th>1</th>\n",
       "      <th>2</th>\n",
       "      <th>3</th>\n",
       "      <th>4</th>\n",
       "      <th>5</th>\n",
       "    </tr>\n",
       "  </thead>\n",
       "  <tbody>\n",
       "    <tr>\n",
       "      <th>0</th>\n",
       "      <td>0.048725</td>\n",
       "      <td>0.289110</td>\n",
       "      <td>0.720966</td>\n",
       "      <td>0.021616</td>\n",
       "      <td>0.205923</td>\n",
       "      <td>0.050773</td>\n",
       "    </tr>\n",
       "    <tr>\n",
       "      <th>1</th>\n",
       "      <td>0.302272</td>\n",
       "      <td>0.663910</td>\n",
       "      <td>0.308114</td>\n",
       "      <td>NaN</td>\n",
       "      <td>0.069571</td>\n",
       "      <td>0.867404</td>\n",
       "    </tr>\n",
       "    <tr>\n",
       "      <th>2</th>\n",
       "      <td>0.133241</td>\n",
       "      <td>0.178125</td>\n",
       "      <td>0.495930</td>\n",
       "      <td>NaN</td>\n",
       "      <td>0.758944</td>\n",
       "      <td>0.970485</td>\n",
       "    </tr>\n",
       "    <tr>\n",
       "      <th>3</th>\n",
       "      <td>NaN</td>\n",
       "      <td>0.384250</td>\n",
       "      <td>0.408718</td>\n",
       "      <td>NaN</td>\n",
       "      <td>0.270670</td>\n",
       "      <td>0.854103</td>\n",
       "    </tr>\n",
       "    <tr>\n",
       "      <th>4</th>\n",
       "      <td>NaN</td>\n",
       "      <td>0.760756</td>\n",
       "      <td>0.516669</td>\n",
       "      <td>NaN</td>\n",
       "      <td>0.298692</td>\n",
       "      <td>0.283943</td>\n",
       "    </tr>\n",
       "    <tr>\n",
       "      <th>5</th>\n",
       "      <td>NaN</td>\n",
       "      <td>0.460140</td>\n",
       "      <td>0.544368</td>\n",
       "      <td>0.217401</td>\n",
       "      <td>0.799868</td>\n",
       "      <td>0.726684</td>\n",
       "    </tr>\n",
       "  </tbody>\n",
       "</table>\n",
       "</div>"
      ],
      "text/plain": [
       "          0         1         2         3         4         5\n",
       "0  0.048725  0.289110  0.720966  0.021616  0.205923  0.050773\n",
       "1  0.302272  0.663910  0.308114       NaN  0.069571  0.867404\n",
       "2  0.133241  0.178125  0.495930       NaN  0.758944  0.970485\n",
       "3       NaN  0.384250  0.408718       NaN  0.270670  0.854103\n",
       "4       NaN  0.760756  0.516669       NaN  0.298692  0.283943\n",
       "5       NaN  0.460140  0.544368  0.217401  0.799868  0.726684"
      ]
     },
     "execution_count": 4,
     "metadata": {},
     "output_type": "execute_result"
    }
   ],
   "source": [
    "np.random.seed(21)\n",
    "df = DataFrame(np.random.rand(36).reshape((6,6)))\n",
    "df.loc[3:5, 0] = in_blank\n",
    "df.loc[1:4, 3] = in_blank\n",
    "df"
   ]
  },
  {
   "cell_type": "markdown",
   "id": "ccd86527-5ba5-49dc-8457-44954a403755",
   "metadata": {},
   "source": [
    "##### object_name.fillna(value)"
   ]
  },
  {
   "cell_type": "code",
   "execution_count": 5,
   "id": "032402a1-4925-4661-b4e5-c305b2c4ceb6",
   "metadata": {},
   "outputs": [
    {
     "data": {
      "text/html": [
       "<div>\n",
       "<style scoped>\n",
       "    .dataframe tbody tr th:only-of-type {\n",
       "        vertical-align: middle;\n",
       "    }\n",
       "\n",
       "    .dataframe tbody tr th {\n",
       "        vertical-align: top;\n",
       "    }\n",
       "\n",
       "    .dataframe thead th {\n",
       "        text-align: right;\n",
       "    }\n",
       "</style>\n",
       "<table border=\"1\" class=\"dataframe\">\n",
       "  <thead>\n",
       "    <tr style=\"text-align: right;\">\n",
       "      <th></th>\n",
       "      <th>0</th>\n",
       "      <th>1</th>\n",
       "      <th>2</th>\n",
       "      <th>3</th>\n",
       "      <th>4</th>\n",
       "      <th>5</th>\n",
       "    </tr>\n",
       "  </thead>\n",
       "  <tbody>\n",
       "    <tr>\n",
       "      <th>0</th>\n",
       "      <td>0.048725</td>\n",
       "      <td>0.289110</td>\n",
       "      <td>0.720966</td>\n",
       "      <td>0.021616</td>\n",
       "      <td>0.205923</td>\n",
       "      <td>0.050773</td>\n",
       "    </tr>\n",
       "    <tr>\n",
       "      <th>1</th>\n",
       "      <td>0.302272</td>\n",
       "      <td>0.663910</td>\n",
       "      <td>0.308114</td>\n",
       "      <td>0.000000</td>\n",
       "      <td>0.069571</td>\n",
       "      <td>0.867404</td>\n",
       "    </tr>\n",
       "    <tr>\n",
       "      <th>2</th>\n",
       "      <td>0.133241</td>\n",
       "      <td>0.178125</td>\n",
       "      <td>0.495930</td>\n",
       "      <td>0.000000</td>\n",
       "      <td>0.758944</td>\n",
       "      <td>0.970485</td>\n",
       "    </tr>\n",
       "    <tr>\n",
       "      <th>3</th>\n",
       "      <td>0.000000</td>\n",
       "      <td>0.384250</td>\n",
       "      <td>0.408718</td>\n",
       "      <td>0.000000</td>\n",
       "      <td>0.270670</td>\n",
       "      <td>0.854103</td>\n",
       "    </tr>\n",
       "    <tr>\n",
       "      <th>4</th>\n",
       "      <td>0.000000</td>\n",
       "      <td>0.760756</td>\n",
       "      <td>0.516669</td>\n",
       "      <td>0.000000</td>\n",
       "      <td>0.298692</td>\n",
       "      <td>0.283943</td>\n",
       "    </tr>\n",
       "    <tr>\n",
       "      <th>5</th>\n",
       "      <td>0.000000</td>\n",
       "      <td>0.460140</td>\n",
       "      <td>0.544368</td>\n",
       "      <td>0.217401</td>\n",
       "      <td>0.799868</td>\n",
       "      <td>0.726684</td>\n",
       "    </tr>\n",
       "  </tbody>\n",
       "</table>\n",
       "</div>"
      ],
      "text/plain": [
       "          0         1         2         3         4         5\n",
       "0  0.048725  0.289110  0.720966  0.021616  0.205923  0.050773\n",
       "1  0.302272  0.663910  0.308114  0.000000  0.069571  0.867404\n",
       "2  0.133241  0.178125  0.495930  0.000000  0.758944  0.970485\n",
       "3  0.000000  0.384250  0.408718  0.000000  0.270670  0.854103\n",
       "4  0.000000  0.760756  0.516669  0.000000  0.298692  0.283943\n",
       "5  0.000000  0.460140  0.544368  0.217401  0.799868  0.726684"
      ]
     },
     "execution_count": 5,
     "metadata": {},
     "output_type": "execute_result"
    }
   ],
   "source": [
    "df_full = df.fillna(0)\n",
    "df_full"
   ]
  },
  {
   "cell_type": "markdown",
   "id": "ea83c5ba-1d82-4e6c-af84-03e8342e2e4d",
   "metadata": {},
   "source": [
    "#### object_name.fillna(dictionary)"
   ]
  },
  {
   "cell_type": "code",
   "execution_count": 6,
   "id": "fa809c9c-c2ef-416a-8741-67f023505893",
   "metadata": {},
   "outputs": [
    {
     "data": {
      "text/html": [
       "<div>\n",
       "<style scoped>\n",
       "    .dataframe tbody tr th:only-of-type {\n",
       "        vertical-align: middle;\n",
       "    }\n",
       "\n",
       "    .dataframe tbody tr th {\n",
       "        vertical-align: top;\n",
       "    }\n",
       "\n",
       "    .dataframe thead th {\n",
       "        text-align: right;\n",
       "    }\n",
       "</style>\n",
       "<table border=\"1\" class=\"dataframe\">\n",
       "  <thead>\n",
       "    <tr style=\"text-align: right;\">\n",
       "      <th></th>\n",
       "      <th>0</th>\n",
       "      <th>1</th>\n",
       "      <th>2</th>\n",
       "      <th>3</th>\n",
       "      <th>4</th>\n",
       "      <th>5</th>\n",
       "    </tr>\n",
       "  </thead>\n",
       "  <tbody>\n",
       "    <tr>\n",
       "      <th>0</th>\n",
       "      <td>0.048725</td>\n",
       "      <td>0.289110</td>\n",
       "      <td>0.720966</td>\n",
       "      <td>0.021616</td>\n",
       "      <td>0.205923</td>\n",
       "      <td>0.050773</td>\n",
       "    </tr>\n",
       "    <tr>\n",
       "      <th>1</th>\n",
       "      <td>0.302272</td>\n",
       "      <td>0.663910</td>\n",
       "      <td>0.308114</td>\n",
       "      <td>1.250000</td>\n",
       "      <td>0.069571</td>\n",
       "      <td>0.867404</td>\n",
       "    </tr>\n",
       "    <tr>\n",
       "      <th>2</th>\n",
       "      <td>0.133241</td>\n",
       "      <td>0.178125</td>\n",
       "      <td>0.495930</td>\n",
       "      <td>1.250000</td>\n",
       "      <td>0.758944</td>\n",
       "      <td>0.970485</td>\n",
       "    </tr>\n",
       "    <tr>\n",
       "      <th>3</th>\n",
       "      <td>0.100000</td>\n",
       "      <td>0.384250</td>\n",
       "      <td>0.408718</td>\n",
       "      <td>1.250000</td>\n",
       "      <td>0.270670</td>\n",
       "      <td>0.854103</td>\n",
       "    </tr>\n",
       "    <tr>\n",
       "      <th>4</th>\n",
       "      <td>0.100000</td>\n",
       "      <td>0.760756</td>\n",
       "      <td>0.516669</td>\n",
       "      <td>1.250000</td>\n",
       "      <td>0.298692</td>\n",
       "      <td>0.283943</td>\n",
       "    </tr>\n",
       "    <tr>\n",
       "      <th>5</th>\n",
       "      <td>0.100000</td>\n",
       "      <td>0.460140</td>\n",
       "      <td>0.544368</td>\n",
       "      <td>0.217401</td>\n",
       "      <td>0.799868</td>\n",
       "      <td>0.726684</td>\n",
       "    </tr>\n",
       "  </tbody>\n",
       "</table>\n",
       "</div>"
      ],
      "text/plain": [
       "          0         1         2         3         4         5\n",
       "0  0.048725  0.289110  0.720966  0.021616  0.205923  0.050773\n",
       "1  0.302272  0.663910  0.308114  1.250000  0.069571  0.867404\n",
       "2  0.133241  0.178125  0.495930  1.250000  0.758944  0.970485\n",
       "3  0.100000  0.384250  0.408718  1.250000  0.270670  0.854103\n",
       "4  0.100000  0.760756  0.516669  1.250000  0.298692  0.283943\n",
       "5  0.100000  0.460140  0.544368  0.217401  0.799868  0.726684"
      ]
     },
     "execution_count": 6,
     "metadata": {},
     "output_type": "execute_result"
    }
   ],
   "source": [
    "dictn = {0: 0.1,3:1.25}\n",
    "df_full = df.fillna(dictn)\n",
    "df_full"
   ]
  },
  {
   "cell_type": "markdown",
   "id": "a5e0f2ff-64ea-48a4-8b47-996eabbb0f60",
   "metadata": {},
   "source": [
    "#### Filling blank values with column mean"
   ]
  },
  {
   "cell_type": "code",
   "execution_count": 7,
   "id": "2fb73a6d-5bfd-4323-be9d-e09a589dd4d3",
   "metadata": {},
   "outputs": [
    {
     "data": {
      "text/html": [
       "<div>\n",
       "<style scoped>\n",
       "    .dataframe tbody tr th:only-of-type {\n",
       "        vertical-align: middle;\n",
       "    }\n",
       "\n",
       "    .dataframe tbody tr th {\n",
       "        vertical-align: top;\n",
       "    }\n",
       "\n",
       "    .dataframe thead th {\n",
       "        text-align: right;\n",
       "    }\n",
       "</style>\n",
       "<table border=\"1\" class=\"dataframe\">\n",
       "  <thead>\n",
       "    <tr style=\"text-align: right;\">\n",
       "      <th></th>\n",
       "      <th>0</th>\n",
       "      <th>1</th>\n",
       "      <th>2</th>\n",
       "      <th>3</th>\n",
       "      <th>4</th>\n",
       "      <th>5</th>\n",
       "    </tr>\n",
       "  </thead>\n",
       "  <tbody>\n",
       "    <tr>\n",
       "      <th>0</th>\n",
       "      <td>0.048725</td>\n",
       "      <td>0.289110</td>\n",
       "      <td>0.720966</td>\n",
       "      <td>0.021616</td>\n",
       "      <td>0.205923</td>\n",
       "      <td>0.050773</td>\n",
       "    </tr>\n",
       "    <tr>\n",
       "      <th>1</th>\n",
       "      <td>0.302272</td>\n",
       "      <td>0.663910</td>\n",
       "      <td>0.308114</td>\n",
       "      <td>0.479435</td>\n",
       "      <td>0.069571</td>\n",
       "      <td>0.867404</td>\n",
       "    </tr>\n",
       "    <tr>\n",
       "      <th>2</th>\n",
       "      <td>0.133241</td>\n",
       "      <td>0.178125</td>\n",
       "      <td>0.495930</td>\n",
       "      <td>0.479435</td>\n",
       "      <td>0.758944</td>\n",
       "      <td>0.970485</td>\n",
       "    </tr>\n",
       "    <tr>\n",
       "      <th>3</th>\n",
       "      <td>0.222852</td>\n",
       "      <td>0.384250</td>\n",
       "      <td>0.408718</td>\n",
       "      <td>0.479435</td>\n",
       "      <td>0.270670</td>\n",
       "      <td>0.854103</td>\n",
       "    </tr>\n",
       "    <tr>\n",
       "      <th>4</th>\n",
       "      <td>0.222852</td>\n",
       "      <td>0.760756</td>\n",
       "      <td>0.516669</td>\n",
       "      <td>0.479435</td>\n",
       "      <td>0.298692</td>\n",
       "      <td>0.283943</td>\n",
       "    </tr>\n",
       "    <tr>\n",
       "      <th>5</th>\n",
       "      <td>0.222852</td>\n",
       "      <td>0.460140</td>\n",
       "      <td>0.544368</td>\n",
       "      <td>0.217401</td>\n",
       "      <td>0.799868</td>\n",
       "      <td>0.726684</td>\n",
       "    </tr>\n",
       "  </tbody>\n",
       "</table>\n",
       "</div>"
      ],
      "text/plain": [
       "          0         1         2         3         4         5\n",
       "0  0.048725  0.289110  0.720966  0.021616  0.205923  0.050773\n",
       "1  0.302272  0.663910  0.308114  0.479435  0.069571  0.867404\n",
       "2  0.133241  0.178125  0.495930  0.479435  0.758944  0.970485\n",
       "3  0.222852  0.384250  0.408718  0.479435  0.270670  0.854103\n",
       "4  0.222852  0.760756  0.516669  0.479435  0.298692  0.283943\n",
       "5  0.222852  0.460140  0.544368  0.217401  0.799868  0.726684"
      ]
     },
     "execution_count": 7,
     "metadata": {},
     "output_type": "execute_result"
    }
   ],
   "source": [
    "df_full = df.fillna(df.mean(1))\n",
    "df_full"
   ]
  },
  {
   "cell_type": "code",
   "execution_count": null,
   "id": "93857ba0-29e0-4dd3-8326-1485c53aea9c",
   "metadata": {},
   "outputs": [],
   "source": []
  }
 ],
 "metadata": {
  "kernelspec": {
   "display_name": "Python 3 (ipykernel)",
   "language": "python",
   "name": "python3"
  },
  "language_info": {
   "codemirror_mode": {
    "name": "ipython",
    "version": 3
   },
   "file_extension": ".py",
   "mimetype": "text/x-python",
   "name": "python",
   "nbconvert_exporter": "python",
   "pygments_lexer": "ipython3",
   "version": "3.8.10"
  }
 },
 "nbformat": 4,
 "nbformat_minor": 5
}
