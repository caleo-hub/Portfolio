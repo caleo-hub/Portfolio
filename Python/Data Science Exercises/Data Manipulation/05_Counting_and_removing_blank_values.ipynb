{
 "cells": [
  {
   "cell_type": "markdown",
   "id": "263df2e1-b1c4-4d29-b138-ca8e574312b4",
   "metadata": {},
   "source": [
    "___\n",
    "# Data Manipulation: Basics\n",
    "\n",
    "## Counting and removing blank values\n",
    "___\n",
    "\n",
    "### Importing libraries and Classes"
   ]
  },
  {
   "cell_type": "code",
   "execution_count": 2,
   "id": "9c141f74-b940-4004-96b9-b760393dcee6",
   "metadata": {},
   "outputs": [],
   "source": [
    "import numpy as np\n",
    "import pandas as pd\n",
    "\n",
    "from pandas import Series, DataFrame"
   ]
  },
  {
   "cell_type": "code",
   "execution_count": 3,
   "id": "fe6d56cc-5061-41be-96e8-631c5b1d6f21",
   "metadata": {},
   "outputs": [
    {
     "data": {
      "text/html": [
       "<div>\n",
       "<style scoped>\n",
       "    .dataframe tbody tr th:only-of-type {\n",
       "        vertical-align: middle;\n",
       "    }\n",
       "\n",
       "    .dataframe tbody tr th {\n",
       "        vertical-align: top;\n",
       "    }\n",
       "\n",
       "    .dataframe thead th {\n",
       "        text-align: right;\n",
       "    }\n",
       "</style>\n",
       "<table border=\"1\" class=\"dataframe\">\n",
       "  <thead>\n",
       "    <tr style=\"text-align: right;\">\n",
       "      <th></th>\n",
       "      <th>0</th>\n",
       "      <th>1</th>\n",
       "      <th>2</th>\n",
       "      <th>3</th>\n",
       "      <th>4</th>\n",
       "      <th>5</th>\n",
       "    </tr>\n",
       "  </thead>\n",
       "  <tbody>\n",
       "    <tr>\n",
       "      <th>0</th>\n",
       "      <td>0.048725</td>\n",
       "      <td>0.289110</td>\n",
       "      <td>0.720966</td>\n",
       "      <td>0.021616</td>\n",
       "      <td>0.205923</td>\n",
       "      <td>0.050773</td>\n",
       "    </tr>\n",
       "    <tr>\n",
       "      <th>1</th>\n",
       "      <td>0.302272</td>\n",
       "      <td>0.663910</td>\n",
       "      <td>0.308114</td>\n",
       "      <td>0.583591</td>\n",
       "      <td>0.069571</td>\n",
       "      <td>NaN</td>\n",
       "    </tr>\n",
       "    <tr>\n",
       "      <th>2</th>\n",
       "      <td>0.133241</td>\n",
       "      <td>0.178125</td>\n",
       "      <td>0.495930</td>\n",
       "      <td>0.863700</td>\n",
       "      <td>0.758944</td>\n",
       "      <td>NaN</td>\n",
       "    </tr>\n",
       "    <tr>\n",
       "      <th>3</th>\n",
       "      <td>NaN</td>\n",
       "      <td>0.384250</td>\n",
       "      <td>0.408718</td>\n",
       "      <td>0.713360</td>\n",
       "      <td>0.270670</td>\n",
       "      <td>NaN</td>\n",
       "    </tr>\n",
       "    <tr>\n",
       "      <th>4</th>\n",
       "      <td>NaN</td>\n",
       "      <td>0.760756</td>\n",
       "      <td>0.516669</td>\n",
       "      <td>0.167836</td>\n",
       "      <td>0.298692</td>\n",
       "      <td>NaN</td>\n",
       "    </tr>\n",
       "    <tr>\n",
       "      <th>5</th>\n",
       "      <td>NaN</td>\n",
       "      <td>0.460140</td>\n",
       "      <td>0.544368</td>\n",
       "      <td>0.217401</td>\n",
       "      <td>0.799868</td>\n",
       "      <td>0.726684</td>\n",
       "    </tr>\n",
       "  </tbody>\n",
       "</table>\n",
       "</div>"
      ],
      "text/plain": [
       "          0         1         2         3         4         5\n",
       "0  0.048725  0.289110  0.720966  0.021616  0.205923  0.050773\n",
       "1  0.302272  0.663910  0.308114  0.583591  0.069571       NaN\n",
       "2  0.133241  0.178125  0.495930  0.863700  0.758944       NaN\n",
       "3       NaN  0.384250  0.408718  0.713360  0.270670       NaN\n",
       "4       NaN  0.760756  0.516669  0.167836  0.298692       NaN\n",
       "5       NaN  0.460140  0.544368  0.217401  0.799868  0.726684"
      ]
     },
     "execution_count": 3,
     "metadata": {},
     "output_type": "execute_result"
    }
   ],
   "source": [
    "in_blank = np.nan\n",
    "np.random.seed(21)\n",
    "df = DataFrame(np.random.rand(36).reshape((6,6)))\n",
    "df.loc[3:5, 0] = in_blank\n",
    "df.loc[1:4, 5] = in_blank\n",
    "df"
   ]
  },
  {
   "cell_type": "markdown",
   "id": "1635fe96-9243-4663-952f-20bdd5ce5653",
   "metadata": {},
   "source": [
    "#### Counting blank values\n",
    " object_name.isnull().sum()"
   ]
  },
  {
   "cell_type": "code",
   "execution_count": 5,
   "id": "b99d1f93-c26e-4e8e-b972-bb2c1696592f",
   "metadata": {},
   "outputs": [
    {
     "data": {
      "text/plain": [
       "0    3\n",
       "1    0\n",
       "2    0\n",
       "3    0\n",
       "4    0\n",
       "5    4\n",
       "dtype: int64"
      ]
     },
     "execution_count": 5,
     "metadata": {},
     "output_type": "execute_result"
    }
   ],
   "source": [
    "df.isnull().sum()"
   ]
  },
  {
   "cell_type": "markdown",
   "id": "107df235-c55c-467d-956d-18dc1a476bb5",
   "metadata": {},
   "source": [
    "### Removing blank values\n",
    "object_name.dropna()"
   ]
  },
  {
   "cell_type": "code",
   "execution_count": 6,
   "id": "f2a0f76d-3eb0-458d-94d9-1f6a477a2091",
   "metadata": {},
   "outputs": [
    {
     "data": {
      "text/html": [
       "<div>\n",
       "<style scoped>\n",
       "    .dataframe tbody tr th:only-of-type {\n",
       "        vertical-align: middle;\n",
       "    }\n",
       "\n",
       "    .dataframe tbody tr th {\n",
       "        vertical-align: top;\n",
       "    }\n",
       "\n",
       "    .dataframe thead th {\n",
       "        text-align: right;\n",
       "    }\n",
       "</style>\n",
       "<table border=\"1\" class=\"dataframe\">\n",
       "  <thead>\n",
       "    <tr style=\"text-align: right;\">\n",
       "      <th></th>\n",
       "      <th>0</th>\n",
       "      <th>1</th>\n",
       "      <th>2</th>\n",
       "      <th>3</th>\n",
       "      <th>4</th>\n",
       "      <th>5</th>\n",
       "    </tr>\n",
       "  </thead>\n",
       "  <tbody>\n",
       "    <tr>\n",
       "      <th>0</th>\n",
       "      <td>0.048725</td>\n",
       "      <td>0.28911</td>\n",
       "      <td>0.720966</td>\n",
       "      <td>0.021616</td>\n",
       "      <td>0.205923</td>\n",
       "      <td>0.050773</td>\n",
       "    </tr>\n",
       "  </tbody>\n",
       "</table>\n",
       "</div>"
      ],
      "text/plain": [
       "          0        1         2         3         4         5\n",
       "0  0.048725  0.28911  0.720966  0.021616  0.205923  0.050773"
      ]
     },
     "execution_count": 6,
     "metadata": {},
     "output_type": "execute_result"
    }
   ],
   "source": [
    "df.dropna()"
   ]
  },
  {
   "cell_type": "code",
   "execution_count": 7,
   "id": "7179ff3e-4303-4fee-8524-fe6ab7038b3c",
   "metadata": {},
   "outputs": [
    {
     "data": {
      "text/html": [
       "<div>\n",
       "<style scoped>\n",
       "    .dataframe tbody tr th:only-of-type {\n",
       "        vertical-align: middle;\n",
       "    }\n",
       "\n",
       "    .dataframe tbody tr th {\n",
       "        vertical-align: top;\n",
       "    }\n",
       "\n",
       "    .dataframe thead th {\n",
       "        text-align: right;\n",
       "    }\n",
       "</style>\n",
       "<table border=\"1\" class=\"dataframe\">\n",
       "  <thead>\n",
       "    <tr style=\"text-align: right;\">\n",
       "      <th></th>\n",
       "      <th>1</th>\n",
       "      <th>2</th>\n",
       "      <th>3</th>\n",
       "      <th>4</th>\n",
       "    </tr>\n",
       "  </thead>\n",
       "  <tbody>\n",
       "    <tr>\n",
       "      <th>0</th>\n",
       "      <td>0.289110</td>\n",
       "      <td>0.720966</td>\n",
       "      <td>0.021616</td>\n",
       "      <td>0.205923</td>\n",
       "    </tr>\n",
       "    <tr>\n",
       "      <th>1</th>\n",
       "      <td>0.663910</td>\n",
       "      <td>0.308114</td>\n",
       "      <td>0.583591</td>\n",
       "      <td>0.069571</td>\n",
       "    </tr>\n",
       "    <tr>\n",
       "      <th>2</th>\n",
       "      <td>0.178125</td>\n",
       "      <td>0.495930</td>\n",
       "      <td>0.863700</td>\n",
       "      <td>0.758944</td>\n",
       "    </tr>\n",
       "    <tr>\n",
       "      <th>3</th>\n",
       "      <td>0.384250</td>\n",
       "      <td>0.408718</td>\n",
       "      <td>0.713360</td>\n",
       "      <td>0.270670</td>\n",
       "    </tr>\n",
       "    <tr>\n",
       "      <th>4</th>\n",
       "      <td>0.760756</td>\n",
       "      <td>0.516669</td>\n",
       "      <td>0.167836</td>\n",
       "      <td>0.298692</td>\n",
       "    </tr>\n",
       "    <tr>\n",
       "      <th>5</th>\n",
       "      <td>0.460140</td>\n",
       "      <td>0.544368</td>\n",
       "      <td>0.217401</td>\n",
       "      <td>0.799868</td>\n",
       "    </tr>\n",
       "  </tbody>\n",
       "</table>\n",
       "</div>"
      ],
      "text/plain": [
       "          1         2         3         4\n",
       "0  0.289110  0.720966  0.021616  0.205923\n",
       "1  0.663910  0.308114  0.583591  0.069571\n",
       "2  0.178125  0.495930  0.863700  0.758944\n",
       "3  0.384250  0.408718  0.713360  0.270670\n",
       "4  0.760756  0.516669  0.167836  0.298692\n",
       "5  0.460140  0.544368  0.217401  0.799868"
      ]
     },
     "execution_count": 7,
     "metadata": {},
     "output_type": "execute_result"
    }
   ],
   "source": [
    "df.dropna(axis=1)"
   ]
  },
  {
   "cell_type": "code",
   "execution_count": null,
   "id": "dc096f0d-fd62-44a2-b255-f03b9602797b",
   "metadata": {},
   "outputs": [],
   "source": []
  }
 ],
 "metadata": {
  "kernelspec": {
   "display_name": "Python 3 (ipykernel)",
   "language": "python",
   "name": "python3"
  },
  "language_info": {
   "codemirror_mode": {
    "name": "ipython",
    "version": 3
   },
   "file_extension": ".py",
   "mimetype": "text/x-python",
   "name": "python",
   "nbconvert_exporter": "python",
   "pygments_lexer": "ipython3",
   "version": "3.8.10"
  }
 },
 "nbformat": 4,
 "nbformat_minor": 5
}
