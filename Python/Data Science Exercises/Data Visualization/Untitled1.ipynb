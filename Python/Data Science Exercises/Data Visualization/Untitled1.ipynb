{
 "cells": [
  {
   "cell_type": "code",
   "execution_count": 3,
   "id": "8564af4e-35a6-4554-a0bb-f3fc46f13608",
   "metadata": {},
   "outputs": [
    {
     "ename": "ImportError",
     "evalue": "cannot import name 'load_settings' from 'tests' (C:\\Users\\csant321\\AppData\\Local\\Programs\\Python\\Python38\\lib\\site-packages\\IPython\\extensions\\tests\\__init__.py)",
     "output_type": "error",
     "traceback": [
      "\u001b[1;31m---------------------------------------------------------------------------\u001b[0m",
      "\u001b[1;31mImportError\u001b[0m                               Traceback (most recent call last)",
      "\u001b[1;32m~\\AppData\\Local\\Temp/ipykernel_17880/1102080595.py\u001b[0m in \u001b[0;36m<module>\u001b[1;34m\u001b[0m\n\u001b[0;32m      1\u001b[0m \u001b[1;32mfrom\u001b[0m \u001b[0moffice365\u001b[0m\u001b[1;33m.\u001b[0m\u001b[0mruntime\u001b[0m\u001b[1;33m.\u001b[0m\u001b[0mauth\u001b[0m\u001b[1;33m.\u001b[0m\u001b[0mclient_credential\u001b[0m \u001b[1;32mimport\u001b[0m \u001b[0mClientCredential\u001b[0m\u001b[1;33m\u001b[0m\u001b[1;33m\u001b[0m\u001b[0m\n\u001b[0;32m      2\u001b[0m \u001b[1;32mfrom\u001b[0m \u001b[0moffice365\u001b[0m\u001b[1;33m.\u001b[0m\u001b[0msharepoint\u001b[0m\u001b[1;33m.\u001b[0m\u001b[0mclient_context\u001b[0m \u001b[1;32mimport\u001b[0m \u001b[0mClientContext\u001b[0m\u001b[1;33m\u001b[0m\u001b[1;33m\u001b[0m\u001b[0m\n\u001b[1;32m----> 3\u001b[1;33m \u001b[1;32mfrom\u001b[0m \u001b[0mtests\u001b[0m \u001b[1;32mimport\u001b[0m \u001b[0mload_settings\u001b[0m\u001b[1;33m\u001b[0m\u001b[1;33m\u001b[0m\u001b[0m\n\u001b[0m\u001b[0;32m      4\u001b[0m \u001b[1;33m\u001b[0m\u001b[0m\n",
      "\u001b[1;31mImportError\u001b[0m: cannot import name 'load_settings' from 'tests' (C:\\Users\\csant321\\AppData\\Local\\Programs\\Python\\Python38\\lib\\site-packages\\IPython\\extensions\\tests\\__init__.py)"
     ]
    }
   ],
   "source": [
    "from office365.runtime.auth.client_credential import ClientCredential\n",
    "from office365.sharepoint.client_context import ClientContext\n",
    "from tests import load_settings\n",
    "\n"
   ]
  },
  {
   "cell_type": "code",
   "execution_count": null,
   "id": "d18cc3ce-dce3-49d4-a0ab-bff7d5f5cd5b",
   "metadata": {},
   "outputs": [],
   "source": [
    "site_url = \"https://{your-tenant-prefix}.sharepoint.com\"\n",
    "ctx = ClientContext(site_url).with_credentials(UserCredential(\"{username}\", \"{password}\"))\n",
    "web = ctx.web\n",
    "ctx.load(web)\n",
    "ctx.execute_query()\n",
    "print(\"Web title: {0}\".format(web.properties['Title']))"
   ]
  }
 ],
 "metadata": {
  "kernelspec": {
   "display_name": "Python 3 (ipykernel)",
   "language": "python",
   "name": "python3"
  },
  "language_info": {
   "codemirror_mode": {
    "name": "ipython",
    "version": 3
   },
   "file_extension": ".py",
   "mimetype": "text/x-python",
   "name": "python",
   "nbconvert_exporter": "python",
   "pygments_lexer": "ipython3",
   "version": "3.8.10"
  }
 },
 "nbformat": 4,
 "nbformat_minor": 5
}
