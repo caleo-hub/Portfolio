{
 "cells": [
  {
   "cell_type": "markdown",
   "id": "6a838519-d862-49a9-82b6-597e25e7e32b",
   "metadata": {},
   "source": [
    "# Functions basics"
   ]
  },
  {
   "cell_type": "markdown",
   "id": "4c367674-e8eb-4d9b-96a2-0251d8f4b795",
   "metadata": {},
   "source": [
    "## Atom divider\n",
    "This is a funny function about distributing atoms to scientists at a convention. The question is: everyone wants to split the number of atoms equally, but they don't want to cause any explosion by splitting atoms.\n"
   ]
  },
  {
   "cell_type": "code",
   "execution_count": 37,
   "id": "6dbd8e27-807c-4760-a012-c43d21bb3968",
   "metadata": {},
   "outputs": [],
   "source": [
    "def AtomDivider(atoms, members=2):\n",
    "    '''\n",
    "    This is a function to split atoms between n number of members.\n",
    "    Since a single atom must not be split, the remainder of the split can be returned.\n",
    "    \n",
    "    >>> AtomDivider(5, 2)\n",
    "    (2,1)\n",
    "    '''\n",
    "    if (atoms == 1) or (members==0):\n",
    "        print('You are trying something dangerous!!')\n",
    "        print('Try again')\n",
    "        return 0, members \n",
    "    else:\n",
    "        atoms_for_each = atoms // members\n",
    "        atoms_left = atoms % members\n",
    "    \n",
    "    return atoms_for_each, atoms_left"
   ]
  },
  {
   "cell_type": "code",
   "execution_count": 38,
   "id": "97188b54-c384-439c-a6cb-286731fd95c0",
   "metadata": {},
   "outputs": [
    {
     "name": "stdout",
     "output_type": "stream",
     "text": [
      "Help on function AtomDivider in module __main__:\n",
      "\n",
      "AtomDivider(atoms, members=2)\n",
      "    This is a function to split atoms between n number of members.\n",
      "    Since a single atom must not be split, the remainder of the split can be returned.\n",
      "    \n",
      "    >>> AtomDivider(5, 2)\n",
      "    (2,1)\n",
      "\n"
     ]
    }
   ],
   "source": [
    "help(AtomDivider)"
   ]
  },
  {
   "cell_type": "code",
   "execution_count": 39,
   "id": "5d5d8813-da99-48bd-96df-922a78afbb06",
   "metadata": {},
   "outputs": [
    {
     "name": "stdout",
     "output_type": "stream",
     "text": [
      "103 atoms will be divided between 547 member(s) and will left 46 atoms\n"
     ]
    }
   ],
   "source": [
    "Total_atoms = 56387\n",
    "Members = 547\n",
    "\n",
    "each_one, left = AtomDivider(Total_atoms, Members)\n",
    "print(each_one,'atoms will be divided between',Members,'member(s) and will left', left, 'atoms')"
   ]
  },
  {
   "cell_type": "code",
   "execution_count": 40,
   "id": "a33ce809-1462-49b6-9ba6-2e0de7d32aec",
   "metadata": {},
   "outputs": [
    {
     "name": "stdout",
     "output_type": "stream",
     "text": [
      "You are trying something dangerous!!\n",
      "Try again\n",
      "0 atoms will be divided between 547 member(s) and will left 0 atoms\n"
     ]
    }
   ],
   "source": [
    "each_one, left = AtomDivider(1, 0)\n",
    "print(each_one,'atoms will be divided between',Members,'member(s) and will left', left, 'atoms')"
   ]
  },
  {
   "cell_type": "code",
   "execution_count": null,
   "id": "a040f787-2335-4929-b578-cd34ccc6ba48",
   "metadata": {},
   "outputs": [],
   "source": []
  }
 ],
 "metadata": {
  "kernelspec": {
   "display_name": "Python 3 (ipykernel)",
   "language": "python",
   "name": "python3"
  },
  "language_info": {
   "codemirror_mode": {
    "name": "ipython",
    "version": 3
   },
   "file_extension": ".py",
   "mimetype": "text/x-python",
   "name": "python",
   "nbconvert_exporter": "python",
   "pygments_lexer": "ipython3",
   "version": "3.8.10"
  }
 },
 "nbformat": 4,
 "nbformat_minor": 5
}
