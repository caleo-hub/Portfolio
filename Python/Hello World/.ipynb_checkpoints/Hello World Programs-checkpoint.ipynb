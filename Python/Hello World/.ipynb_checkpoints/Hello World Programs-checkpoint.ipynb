{
 "cells": [
  {
   "cell_type": "markdown",
   "id": "a4950073-e299-44a1-98ad-2ff11acce28a",
   "metadata": {},
   "source": [
    "# 'Hello World' Programs"
   ]
  },
  {
   "cell_type": "markdown",
   "id": "c07df981-2afb-4da6-beb9-693690132668",
   "metadata": {},
   "source": [
    "## 1. Hello World print"
   ]
  },
  {
   "cell_type": "code",
   "execution_count": 1,
   "id": "600411fa-6494-4915-99c6-cd7b00b48b9b",
   "metadata": {},
   "outputs": [
    {
     "name": "stdout",
     "output_type": "stream",
     "text": [
      "Olá Mundo\n",
      "Hello World\n"
     ]
    }
   ],
   "source": [
    "\n",
    "print('Olá Mundo')\n",
    "print('Hello World')"
   ]
  },
  {
   "cell_type": "markdown",
   "id": "c5f2c4f1-8710-4ec5-815a-9984a05a6082",
   "metadata": {},
   "source": [
    "## 2. Circle Area Calculator"
   ]
  },
  {
   "cell_type": "code",
   "execution_count": 4,
   "id": "7954d66e-3bdb-4281-92a8-793e25d0a0aa",
   "metadata": {},
   "outputs": [
    {
     "name": "stdin",
     "output_type": "stream",
     "text": [
      "What is the circle diameter (in cm)? 10\n"
     ]
    },
    {
     "name": "stdout",
     "output_type": "stream",
     "text": [
      "The circle area is 78.53975 cm2\n"
     ]
    }
   ],
   "source": [
    "pi = 3.14159\n",
    "diameter = int(input('What is the circle diameter (in cm)?'))\n",
    "radius = diameter/2\n",
    "area = pi*(radius**2)\n",
    "print('The circle area is', area, 'cm2')\n"
   ]
  },
  {
   "cell_type": "markdown",
   "id": "12cd3be3-2f9d-4a95-9f66-5eda873b2508",
   "metadata": {},
   "source": [
    "## 3. Variable Swap"
   ]
  },
  {
   "cell_type": "code",
   "execution_count": 5,
   "id": "0565b091-85b8-4f79-a881-909c345ecfe4",
   "metadata": {},
   "outputs": [
    {
     "name": "stdout",
     "output_type": "stream",
     "text": [
      "a now is  [3, 2, 1]\n",
      "b now is  [1, 2, 3]\n"
     ]
    }
   ],
   "source": [
    "a = [1,2,3]\n",
    "b = [3,2,1]\n",
    "\n",
    "a, b = b, a\n",
    "print('a now is ', a)\n",
    "print('b now is ',b)"
   ]
  },
  {
   "cell_type": "markdown",
   "id": "f634e25f-235a-4f9f-8c1e-3b41d0b57520",
   "metadata": {},
   "source": [
    "## 4. Some operations"
   ]
  },
  {
   "cell_type": "code",
   "execution_count": 12,
   "id": "2533fa98-72c2-4dce-9905-9607a3b9fcdd",
   "metadata": {},
   "outputs": [
    {
     "name": "stdout",
     "output_type": "stream",
     "text": [
      "1) a+b:  23\n",
      "2) a-b:  17\n",
      "3) a*b:  60\n",
      "4) a/b:  6.666666666666667\n",
      "5) a/b Modulus: 2\n",
      "6) a^b:  8000\n",
      "7) a/b Integer Division:  6\n",
      "a is bigger than b:  True\n",
      "b is bigger tha a:  False\n",
      "a is equal b:  False\n"
     ]
    }
   ],
   "source": [
    "a = 20\n",
    "b = 3\n",
    "\n",
    "print('1) a+b: ',a+b)\n",
    "print('2) a-b: ',a-b)\n",
    "print('3) a*b: ',a*b)\n",
    "print('4) a/b: ',a/b)\n",
    "print('5) a/b Modulus:',a%b)\n",
    "print('6) a^b: ',a**b)\n",
    "print('7) a/b Integer Division: ',a//b)\n",
    "\n",
    "print('a is bigger than b: ', a>b)\n",
    "print('b is bigger tha a: ', a<b)\n",
    "print('a is equal b: ',a==b)"
   ]
  },
  {
   "cell_type": "code",
   "execution_count": null,
   "id": "11d14380-8c8d-4fed-a09a-a4bb05146161",
   "metadata": {},
   "outputs": [],
   "source": []
  }
 ],
 "metadata": {
  "kernelspec": {
   "display_name": "Python 3 (ipykernel)",
   "language": "python",
   "name": "python3"
  },
  "language_info": {
   "codemirror_mode": {
    "name": "ipython",
    "version": 3
   },
   "file_extension": ".py",
   "mimetype": "text/x-python",
   "name": "python",
   "nbconvert_exporter": "python",
   "pygments_lexer": "ipython3",
   "version": "3.8.10"
  }
 },
 "nbformat": 4,
 "nbformat_minor": 5
}
